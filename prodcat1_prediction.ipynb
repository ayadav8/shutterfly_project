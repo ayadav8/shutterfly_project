{
 "cells": [
  {
   "cell_type": "markdown",
   "metadata": {},
   "source": [
    "# Introduction\n",
    "\n",
    "In this project I will create a multi-class classification supervised learning model to predict product category (prodcat1) a customer is likely to order.\n",
    "\n",
    "#### Table of content:\n",
    "1. Data Cleaning\n",
    "<br>$\\;\\;\\;\\;\\;\\;$ 1.1 Handling null values\n",
    "<br>$\\;\\;\\;\\;\\;\\;$ 1.2 Handling data types\n",
    "<br>$\\;\\;\\;\\;\\;\\;$ 1.3 Data filtering\n",
    "<br>2. EDA\n",
    "<br>$\\;\\;\\;\\;\\;\\;$ 2.1 prodcat1 observation distribution in order file\n",
    "<br>$\\;\\;\\;\\;\\;\\;$ 2.2 prodcat1 observation distribution in online file\n",
    "<br>$\\;\\;\\;\\;\\;\\;$ 2.3 event2 observation distribution in online file\n",
    "<br>$\\;\\;\\;\\;\\;\\;$ 2.4 total revenue distribution by prodcat1 in order file\n",
    "<br>$\\;\\;\\;\\;\\;\\;$ 2.5 customers in both files\n",
    "<br>$\\;\\;\\;\\;\\;\\;$ 2.6 top customers that generate majority of revenue\n",
    "<br>$\\;\\;\\;\\;\\;\\;$ 2.7 customer segmentation\n",
    "<br> 3. Feature Engineering\n",
    "<br> 4. Feature Selection\n",
    "<br> 5. Modelling\n",
    "<br>$\\;\\;\\;\\;\\;\\;$ 5.1 Random Forest Classifier\n",
    "<br>$\\;\\;\\;\\;\\;\\;$ 5.2 SMOTE Random Forest Classifier\n",
    "<br>$\\;\\;\\;\\;\\;\\;$ 5.3 Gradient Boosting Classifier\n",
    "<br> 6. Model Comparison\n",
    "<br> 7. Summary"
   ]
  },
  {
   "cell_type": "code",
   "execution_count": 1,
   "metadata": {},
   "outputs": [],
   "source": [
    "import pandas as pd\n",
    "import seaborn as sns\n",
    "import matplotlib.pyplot as plt\n",
    "import numpy as np\n",
    "from datetime import datetime, date, timedelta\n",
    "from sklearn.preprocessing import StandardScaler\n",
    "from sklearn.cluster import KMeans\n",
    "import plotly.express as px\n",
    "from plotly.offline import iplot\n",
    "from sklearn.model_selection import train_test_split,GridSearchCV\n",
    "from sklearn.ensemble import RandomForestClassifier,GradientBoostingClassifier\n",
    "from sklearn.metrics import accuracy_score,confusion_matrix,classification_report,accuracy_score,precision_score,recall_score, f1_score\n",
    "from imblearn.over_sampling import SMOTE\n",
    "from imblearn.pipeline import Pipeline\n",
    "from sklearn.svm import SVC\n",
    "import warnings"
   ]
  },
  {
   "cell_type": "code",
   "execution_count": 2,
   "metadata": {},
   "outputs": [
    {
     "data": {
      "text/html": [
       "<div>\n",
       "<style scoped>\n",
       "    .dataframe tbody tr th:only-of-type {\n",
       "        vertical-align: middle;\n",
       "    }\n",
       "\n",
       "    .dataframe tbody tr th {\n",
       "        vertical-align: top;\n",
       "    }\n",
       "\n",
       "    .dataframe thead th {\n",
       "        text-align: right;\n",
       "    }\n",
       "</style>\n",
       "<table border=\"1\" class=\"dataframe\">\n",
       "  <thead>\n",
       "    <tr style=\"text-align: right;\">\n",
       "      <th></th>\n",
       "      <th>session</th>\n",
       "      <th>visitor</th>\n",
       "      <th>dt</th>\n",
       "      <th>custno</th>\n",
       "      <th>category</th>\n",
       "      <th>event1</th>\n",
       "      <th>event2</th>\n",
       "    </tr>\n",
       "  </thead>\n",
       "  <tbody>\n",
       "    <tr>\n",
       "      <th>0</th>\n",
       "      <td>419542</td>\n",
       "      <td>140970</td>\n",
       "      <td>2016-09-16 05:03:23</td>\n",
       "      <td>3840</td>\n",
       "      <td>1</td>\n",
       "      <td>NaN</td>\n",
       "      <td>1</td>\n",
       "    </tr>\n",
       "    <tr>\n",
       "      <th>1</th>\n",
       "      <td>3030130</td>\n",
       "      <td>14501</td>\n",
       "      <td>2017-11-13 04:58:12</td>\n",
       "      <td>70400</td>\n",
       "      <td>1</td>\n",
       "      <td>NaN</td>\n",
       "      <td>1</td>\n",
       "    </tr>\n",
       "  </tbody>\n",
       "</table>\n",
       "</div>"
      ],
      "text/plain": [
       "   session  visitor                   dt  custno  category  event1  event2\n",
       "0   419542   140970  2016-09-16 05:03:23    3840         1     NaN       1\n",
       "1  3030130    14501  2017-11-13 04:58:12   70400         1     NaN       1"
      ]
     },
     "execution_count": 2,
     "metadata": {},
     "output_type": "execute_result"
    }
   ],
   "source": [
    "online_raw = pd.read_csv('online.csv')\n",
    "online_raw.head(2)"
   ]
  },
  {
   "cell_type": "code",
   "execution_count": 3,
   "metadata": {},
   "outputs": [
    {
     "data": {
      "text/html": [
       "<div>\n",
       "<style scoped>\n",
       "    .dataframe tbody tr th:only-of-type {\n",
       "        vertical-align: middle;\n",
       "    }\n",
       "\n",
       "    .dataframe tbody tr th {\n",
       "        vertical-align: top;\n",
       "    }\n",
       "\n",
       "    .dataframe thead th {\n",
       "        text-align: right;\n",
       "    }\n",
       "</style>\n",
       "<table border=\"1\" class=\"dataframe\">\n",
       "  <thead>\n",
       "    <tr style=\"text-align: right;\">\n",
       "      <th></th>\n",
       "      <th>custno</th>\n",
       "      <th>ordno</th>\n",
       "      <th>orderdate</th>\n",
       "      <th>prodcat2</th>\n",
       "      <th>prodcat1</th>\n",
       "      <th>revenue</th>\n",
       "    </tr>\n",
       "  </thead>\n",
       "  <tbody>\n",
       "    <tr>\n",
       "      <th>0</th>\n",
       "      <td>18944</td>\n",
       "      <td>64694</td>\n",
       "      <td>2016-11-27 20:57:20</td>\n",
       "      <td>NaN</td>\n",
       "      <td>1</td>\n",
       "      <td>53.3</td>\n",
       "    </tr>\n",
       "    <tr>\n",
       "      <th>1</th>\n",
       "      <td>18944</td>\n",
       "      <td>114405</td>\n",
       "      <td>2017-04-29 20:18:04</td>\n",
       "      <td>NaN</td>\n",
       "      <td>1</td>\n",
       "      <td>0.1</td>\n",
       "    </tr>\n",
       "  </tbody>\n",
       "</table>\n",
       "</div>"
      ],
      "text/plain": [
       "   custno   ordno            orderdate  prodcat2  prodcat1  revenue\n",
       "0   18944   64694  2016-11-27 20:57:20       NaN         1     53.3\n",
       "1   18944  114405  2017-04-29 20:18:04       NaN         1      0.1"
      ]
     },
     "execution_count": 3,
     "metadata": {},
     "output_type": "execute_result"
    }
   ],
   "source": [
    "order_raw = pd.read_csv('order.csv')\n",
    "order_raw.head(2)"
   ]
  },
  {
   "cell_type": "markdown",
   "metadata": {},
   "source": [
    "# 1.Data Cleaning"
   ]
  },
  {
   "cell_type": "markdown",
   "metadata": {},
   "source": [
    "### 1.1 Handling null values"
   ]
  },
  {
   "cell_type": "code",
   "execution_count": 4,
   "metadata": {},
   "outputs": [
    {
     "name": "stdout",
     "output_type": "stream",
     "text": [
      "<class 'pandas.core.frame.DataFrame'>\n",
      "RangeIndex: 263278 entries, 0 to 263277\n",
      "Data columns (total 6 columns):\n",
      " #   Column     Non-Null Count   Dtype  \n",
      "---  ------     --------------   -----  \n",
      " 0   custno     263278 non-null  int64  \n",
      " 1   ordno      263278 non-null  int64  \n",
      " 2   orderdate  263278 non-null  object \n",
      " 3   prodcat2   261455 non-null  float64\n",
      " 4   prodcat1   263278 non-null  int64  \n",
      " 5   revenue    263278 non-null  float64\n",
      "dtypes: float64(2), int64(3), object(1)\n",
      "memory usage: 12.1+ MB\n"
     ]
    }
   ],
   "source": [
    "order_raw.info()"
   ]
  },
  {
   "cell_type": "markdown",
   "metadata": {},
   "source": [
    "there are null rows in column prodcat2 in order file. Since these are not lot, I will delete the null rows"
   ]
  },
  {
   "cell_type": "code",
   "execution_count": 5,
   "metadata": {},
   "outputs": [],
   "source": [
    "order_raw = order_raw.dropna().reset_index(drop=True)"
   ]
  },
  {
   "cell_type": "code",
   "execution_count": 6,
   "metadata": {},
   "outputs": [
    {
     "name": "stdout",
     "output_type": "stream",
     "text": [
      "<class 'pandas.core.frame.DataFrame'>\n",
      "RangeIndex: 954774 entries, 0 to 954773\n",
      "Data columns (total 7 columns):\n",
      " #   Column    Non-Null Count   Dtype  \n",
      "---  ------    --------------   -----  \n",
      " 0   session   954774 non-null  int64  \n",
      " 1   visitor   954774 non-null  int64  \n",
      " 2   dt        954774 non-null  object \n",
      " 3   custno    954774 non-null  int64  \n",
      " 4   category  954774 non-null  int64  \n",
      " 5   event1    164928 non-null  float64\n",
      " 6   event2    954774 non-null  int64  \n",
      "dtypes: float64(1), int64(5), object(1)\n",
      "memory usage: 51.0+ MB\n"
     ]
    }
   ],
   "source": [
    "online_raw.info()"
   ]
  },
  {
   "cell_type": "markdown",
   "metadata": {},
   "source": [
    "lot of missing values in column event1. I will drop this feature from online file"
   ]
  },
  {
   "cell_type": "code",
   "execution_count": 7,
   "metadata": {},
   "outputs": [],
   "source": [
    "del online_raw['event1']"
   ]
  },
  {
   "cell_type": "markdown",
   "metadata": {},
   "source": [
    "### 1.2 Handling Data Types"
   ]
  },
  {
   "cell_type": "code",
   "execution_count": 8,
   "metadata": {},
   "outputs": [
    {
     "data": {
      "text/plain": [
       "custno         int64\n",
       "ordno          int64\n",
       "orderdate     object\n",
       "prodcat2     float64\n",
       "prodcat1       int64\n",
       "revenue      float64\n",
       "dtype: object"
      ]
     },
     "execution_count": 8,
     "metadata": {},
     "output_type": "execute_result"
    }
   ],
   "source": [
    "order_raw.dtypes"
   ]
  },
  {
   "cell_type": "code",
   "execution_count": 9,
   "metadata": {},
   "outputs": [],
   "source": [
    "order_raw['orderdate'] = pd.to_datetime(order_raw['orderdate'])\n",
    "order_raw = order_raw.rename(columns={'orderdate':'date'})"
   ]
  },
  {
   "cell_type": "code",
   "execution_count": 10,
   "metadata": {},
   "outputs": [
    {
     "data": {
      "text/plain": [
       "session      int64\n",
       "visitor      int64\n",
       "dt          object\n",
       "custno       int64\n",
       "category     int64\n",
       "event2       int64\n",
       "dtype: object"
      ]
     },
     "execution_count": 10,
     "metadata": {},
     "output_type": "execute_result"
    }
   ],
   "source": [
    "online_raw.dtypes"
   ]
  },
  {
   "cell_type": "code",
   "execution_count": 11,
   "metadata": {},
   "outputs": [],
   "source": [
    "online_raw['dt'] = pd.to_datetime(online_raw['dt'])\n",
    "\n",
    "'''Changing the name of category to prodcat1'''\n",
    "online_raw = online_raw.rename(columns={'dt':'date','category':'prodcat1'})"
   ]
  },
  {
   "cell_type": "markdown",
   "metadata": {},
   "source": [
    "### 1.3 Data Filtering"
   ]
  },
  {
   "cell_type": "code",
   "execution_count": 12,
   "metadata": {},
   "outputs": [
    {
     "name": "stdout",
     "output_type": "stream",
     "text": [
      "Min date in order file 2016-01-01 05:05:14\n",
      "Max date in order file 2019-01-02 23:54:58\n",
      "Min date in online file 2016-01-01 00:00:08\n",
      "Max date in online file 2017-12-31 23:58:05\n"
     ]
    }
   ],
   "source": [
    "print('Min date in order file {}'.format(min(order_raw[\"date\"])))\n",
    "print('Max date in order file {}'.format(max(order_raw[\"date\"])))\n",
    "print('Min date in online file {}'.format(min(online_raw[\"date\"])))\n",
    "print('Max date in online file {}'.format(max(online_raw[\"date\"])))"
   ]
  },
  {
   "cell_type": "markdown",
   "metadata": {},
   "source": [
    "the dates are not aligned. I will filter the order data to match online data dates"
   ]
  },
  {
   "cell_type": "code",
   "execution_count": 13,
   "metadata": {},
   "outputs": [],
   "source": [
    "order_raw = order_raw[order_raw[\"date\"]<=max(online_raw[\"date\"])]"
   ]
  },
  {
   "cell_type": "markdown",
   "metadata": {},
   "source": [
    "# 2. EDA"
   ]
  },
  {
   "cell_type": "markdown",
   "metadata": {},
   "source": [
    "### 2.1 prodcat1 observation distribution in order file"
   ]
  },
  {
   "cell_type": "code",
   "execution_count": 14,
   "metadata": {},
   "outputs": [
    {
     "name": "stderr",
     "output_type": "stream",
     "text": [
      "c:\\users\\rr909086\\appdata\\local\\programs\\python37_64\\lib\\site-packages\\seaborn\\_decorators.py:43: FutureWarning:\n",
      "\n",
      "Pass the following variable as a keyword arg: x. From version 0.12, the only valid positional argument will be `data`, and passing other arguments without an explicit keyword will result in an error or misinterpretation.\n",
      "\n"
     ]
    },
    {
     "data": {
      "text/plain": [
       "Text(0.5, 1.0, 'count of observations in order file by prodcat1')"
      ]
     },
     "execution_count": 14,
     "metadata": {},
     "output_type": "execute_result"
    },
    {
     "data": {
      "image/png": "[encoded data removed]",
      "text/plain": [
       "<Figure size 432x288 with 1 Axes>"
      ]
     },
     "metadata": {
      "needs_background": "light"
     },
     "output_type": "display_data"
    }
   ],
   "source": [
    "sns.countplot(order_raw['prodcat1'],order = order_raw['prodcat1'].value_counts().index)\n",
    "plt.title('count of observations in order file by prodcat1')"
   ]
  },
  {
   "cell_type": "markdown",
   "metadata": {},
   "source": [
    "Takeaway: prodcat1 is our target variable. There are 7 distinct categories. The above distribution shows the data is imbalanced. There are around 60,000 observations for category 2. Category 5 and 7 have very low count of observations. The data need to be resampled for modelling"
   ]
  },
  {
   "cell_type": "markdown",
   "metadata": {},
   "source": [
    "### 2.2 prodcat1 observation distribution in online file"
   ]
  },
  {
   "cell_type": "code",
   "execution_count": 15,
   "metadata": {},
   "outputs": [
    {
     "name": "stderr",
     "output_type": "stream",
     "text": [
      "c:\\users\\rr909086\\appdata\\local\\programs\\python37_64\\lib\\site-packages\\seaborn\\_decorators.py:43: FutureWarning:\n",
      "\n",
      "Pass the following variable as a keyword arg: x. From version 0.12, the only valid positional argument will be `data`, and passing other arguments without an explicit keyword will result in an error or misinterpretation.\n",
      "\n"
     ]
    },
    {
     "data": {
      "text/plain": [
       "Text(0.5, 1.0, 'count of observations in online file by prodcat1')"
      ]
     },
     "execution_count": 15,
     "metadata": {},
     "output_type": "execute_result"
    },
    {
     "data": {
      "image/png": "[encoded data removed]",
      "text/plain": [
       "<Figure size 432x288 with 1 Axes>"
      ]
     },
     "metadata": {
      "needs_background": "light"
     },
     "output_type": "display_data"
    }
   ],
   "source": [
    "sns.countplot(online_raw['prodcat1'])\n",
    "plt.title('count of observations in online file by prodcat1')"
   ]
  },
  {
   "cell_type": "markdown",
   "metadata": {},
   "source": [
    "Takeaway: Online data has only 3 categories (out of 7) and data is incomplete"
   ]
  },
  {
   "cell_type": "markdown",
   "metadata": {},
   "source": [
    "### 2.3 event2 observation distribution in online file"
   ]
  },
  {
   "cell_type": "code",
   "execution_count": 16,
   "metadata": {},
   "outputs": [
    {
     "name": "stderr",
     "output_type": "stream",
     "text": [
      "c:\\users\\rr909086\\appdata\\local\\programs\\python37_64\\lib\\site-packages\\seaborn\\_decorators.py:43: FutureWarning:\n",
      "\n",
      "Pass the following variable as a keyword arg: x. From version 0.12, the only valid positional argument will be `data`, and passing other arguments without an explicit keyword will result in an error or misinterpretation.\n",
      "\n"
     ]
    },
    {
     "data": {
      "text/plain": [
       "Text(0.5, 1.0, 'count of observations in online file by event2')"
      ]
     },
     "execution_count": 16,
     "metadata": {},
     "output_type": "execute_result"
    },
    {
     "data": {
      "image/png": "[encoded data removed]",
      "text/plain": [
       "<Figure size 432x288 with 1 Axes>"
      ]
     },
     "metadata": {
      "needs_background": "light"
     },
     "output_type": "display_data"
    }
   ],
   "source": [
    "sns.countplot(online_raw['event2'],order = online_raw['event2'].value_counts().index)\n",
    "plt.title('count of observations in online file by event2')"
   ]
  },
  {
   "cell_type": "markdown",
   "metadata": {},
   "source": [
    "Takeaway: 10 event2 categories and majority observations fall in category 7"
   ]
  },
  {
   "cell_type": "markdown",
   "metadata": {},
   "source": [
    "### 2.4 Total revenue distribution by prodcat1 in order file"
   ]
  },
  {
   "cell_type": "code",
   "execution_count": 17,
   "metadata": {},
   "outputs": [
    {
     "data": {
      "text/plain": [
       "Text(0.5, 1.0, 'Revenue distribution by prodcat1 in order file')"
      ]
     },
     "execution_count": 17,
     "metadata": {},
     "output_type": "execute_result"
    },
    {
     "data": {
      "image/png": "[encoded data removed]",
      "text/plain": [
       "<Figure size 432x288 with 1 Axes>"
      ]
     },
     "metadata": {
      "needs_background": "light"
     },
     "output_type": "display_data"
    }
   ],
   "source": [
    "order_cat_groupby = order_raw.groupby(['prodcat1'],as_index=False).agg({'revenue':'sum'})\n",
    "sns.barplot(x=order_cat_groupby['prodcat1'],y=order_cat_groupby['revenue'])\n",
    "plt.title('Revenue distribution by prodcat1 in order file')\n"
   ]
  },
  {
   "cell_type": "markdown",
   "metadata": {},
   "source": [
    "Takeaway: The revenue distribution by prodcat1 is similar to their observation distribution"
   ]
  },
  {
   "cell_type": "markdown",
   "metadata": {},
   "source": [
    "### 2.5 Customers in both files"
   ]
  },
  {
   "cell_type": "code",
   "execution_count": 18,
   "metadata": {},
   "outputs": [
    {
     "name": "stdout",
     "output_type": "stream",
     "text": [
      "There are 47169 unique customers in the order file\n",
      "There are 57584 unique customers in the online file\n",
      "15082 customers have online history but no order history\n",
      "4667 customers have order history but no online history\n"
     ]
    }
   ],
   "source": [
    "cust_in_order = list(set(order_raw['custno'].tolist()))\n",
    "print('There are {} unique customers in the order file'.format(len(cust_in_order)))\n",
    "\n",
    "cust_in_online = list(set(online_raw['custno'].tolist()))\n",
    "print('There are {} unique customers in the online file'.format(len(cust_in_online)))\n",
    "\n",
    "count = 0\n",
    "for i in cust_in_online:\n",
    "    if i not in cust_in_order:\n",
    "        count = count+1\n",
    "        \n",
    "print('{} customers have online history but no order history'.format(count))\n",
    "\n",
    "count = 0\n",
    "for i in cust_in_order:\n",
    "    if i not in cust_in_online:\n",
    "        count = count+1\n",
    "        \n",
    "print('{} customers have order history but no online history'.format(count))"
   ]
  },
  {
   "cell_type": "markdown",
   "metadata": {},
   "source": [
    "### 2.6 Top customers that generate majority of revenue"
   ]
  },
  {
   "cell_type": "code",
   "execution_count": 19,
   "metadata": {},
   "outputs": [
    {
     "data": {
      "text/html": [
       "<div>\n",
       "<style scoped>\n",
       "    .dataframe tbody tr th:only-of-type {\n",
       "        vertical-align: middle;\n",
       "    }\n",
       "\n",
       "    .dataframe tbody tr th {\n",
       "        vertical-align: top;\n",
       "    }\n",
       "\n",
       "    .dataframe thead th {\n",
       "        text-align: right;\n",
       "    }\n",
       "</style>\n",
       "<table border=\"1\" class=\"dataframe\">\n",
       "  <thead>\n",
       "    <tr style=\"text-align: right;\">\n",
       "      <th></th>\n",
       "      <th>classification</th>\n",
       "      <th>count_customers</th>\n",
       "    </tr>\n",
       "  </thead>\n",
       "  <tbody>\n",
       "    <tr>\n",
       "      <th>0</th>\n",
       "      <td>A</td>\n",
       "      <td>18000</td>\n",
       "    </tr>\n",
       "    <tr>\n",
       "      <th>1</th>\n",
       "      <td>B</td>\n",
       "      <td>15418</td>\n",
       "    </tr>\n",
       "    <tr>\n",
       "      <th>2</th>\n",
       "      <td>C</td>\n",
       "      <td>13751</td>\n",
       "    </tr>\n",
       "  </tbody>\n",
       "</table>\n",
       "</div>"
      ],
      "text/plain": [
       "  classification  count_customers\n",
       "0              A            18000\n",
       "1              B            15418\n",
       "2              C            13751"
      ]
     },
     "execution_count": 19,
     "metadata": {},
     "output_type": "execute_result"
    }
   ],
   "source": [
    "order_cust_groupby = order_raw.groupby(['custno'],as_index=False).agg({'revenue':'sum'})\n",
    "order_cust_groupby = order_cust_groupby.sort_values(['revenue'],ascending=False).reset_index(drop=True)\n",
    "\n",
    "def abc_classification(df,col,A,B,C):\n",
    "    df['cumsum'] = df[col].cumsum()                                   \n",
    "    df['total'] = df[col].sum()                                   \n",
    "    df['% total']=(df['cumsum']/df['total'])*100                         \n",
    "    df[\"classification\"] = np.where(df['% total'] <= A, 'A',\n",
    "                          np.where(df['% total'] <= B,'B', 'C'))   \n",
    "    return df\n",
    "\n",
    "order_cust_groupby = abc_classification(order_cust_groupby,'revenue',80,95,100)\n",
    "order_cust_groupby = order_cust_groupby.groupby(['classification']).size().reset_index()\n",
    "order_cust_groupby.columns = ['classification','count_customers']\n",
    "order_cust_groupby"
   ]
  },
  {
   "cell_type": "markdown",
   "metadata": {},
   "source": [
    "Takeaway: Out of 47,169 customers in order file 18,000 generates 80% of the total revenue i.e. 38% of customers generates 80% revenue"
   ]
  },
  {
   "cell_type": "markdown",
   "metadata": {},
   "source": [
    "### 2.7 Customer Segementation"
   ]
  },
  {
   "cell_type": "markdown",
   "metadata": {},
   "source": [
    "For customer segmentation we will create a RFM model. RFM studies customers’ behaviour and cluster them by using three metrics:\n",
    "\n",
    "<br>1. Recency (R): measure the number of days since the last purchase to a hypothetical snapshot day.\n",
    "<br>2. Frequency (F): measure the number of transaction made during the period of study\n",
    "<br>3. Monetary Value (M): measure how much money each customer has spent during the period of study."
   ]
  },
  {
   "cell_type": "code",
   "execution_count": 20,
   "metadata": {},
   "outputs": [
    {
     "data": {
      "text/html": [
       "<div>\n",
       "<style scoped>\n",
       "    .dataframe tbody tr th:only-of-type {\n",
       "        vertical-align: middle;\n",
       "    }\n",
       "\n",
       "    .dataframe tbody tr th {\n",
       "        vertical-align: top;\n",
       "    }\n",
       "\n",
       "    .dataframe thead th {\n",
       "        text-align: right;\n",
       "    }\n",
       "</style>\n",
       "<table border=\"1\" class=\"dataframe\">\n",
       "  <thead>\n",
       "    <tr style=\"text-align: right;\">\n",
       "      <th></th>\n",
       "      <th>recency</th>\n",
       "      <th>frequency</th>\n",
       "      <th>monetary_value</th>\n",
       "    </tr>\n",
       "  </thead>\n",
       "  <tbody>\n",
       "    <tr>\n",
       "      <th>count</th>\n",
       "      <td>47169.000000</td>\n",
       "      <td>47169.000000</td>\n",
       "      <td>47169.000000</td>\n",
       "    </tr>\n",
       "    <tr>\n",
       "      <th>mean</th>\n",
       "      <td>374.815642</td>\n",
       "      <td>3.698425</td>\n",
       "      <td>277.595358</td>\n",
       "    </tr>\n",
       "    <tr>\n",
       "      <th>std</th>\n",
       "      <td>216.152255</td>\n",
       "      <td>9.452336</td>\n",
       "      <td>712.338346</td>\n",
       "    </tr>\n",
       "    <tr>\n",
       "      <th>min</th>\n",
       "      <td>1.000000</td>\n",
       "      <td>1.000000</td>\n",
       "      <td>0.010000</td>\n",
       "    </tr>\n",
       "    <tr>\n",
       "      <th>25%</th>\n",
       "      <td>194.000000</td>\n",
       "      <td>1.000000</td>\n",
       "      <td>78.440000</td>\n",
       "    </tr>\n",
       "    <tr>\n",
       "      <th>50%</th>\n",
       "      <td>338.000000</td>\n",
       "      <td>2.000000</td>\n",
       "      <td>137.230000</td>\n",
       "    </tr>\n",
       "    <tr>\n",
       "      <th>75%</th>\n",
       "      <td>575.000000</td>\n",
       "      <td>3.000000</td>\n",
       "      <td>236.590000</td>\n",
       "    </tr>\n",
       "    <tr>\n",
       "      <th>max</th>\n",
       "      <td>731.000000</td>\n",
       "      <td>357.000000</td>\n",
       "      <td>24937.040000</td>\n",
       "    </tr>\n",
       "  </tbody>\n",
       "</table>\n",
       "</div>"
      ],
      "text/plain": [
       "            recency     frequency  monetary_value\n",
       "count  47169.000000  47169.000000    47169.000000\n",
       "mean     374.815642      3.698425      277.595358\n",
       "std      216.152255      9.452336      712.338346\n",
       "min        1.000000      1.000000        0.010000\n",
       "25%      194.000000      1.000000       78.440000\n",
       "50%      338.000000      2.000000      137.230000\n",
       "75%      575.000000      3.000000      236.590000\n",
       "max      731.000000    357.000000    24937.040000"
      ]
     },
     "execution_count": 20,
     "metadata": {},
     "output_type": "execute_result"
    }
   ],
   "source": [
    "present = order_raw['date'].max()+timedelta(days=1)\n",
    "\n",
    "rfm= order_raw.groupby('custno').agg({'date': lambda date: (present - date.max()).days,\n",
    "                                        'ordno': lambda num: len(num),\n",
    "                                        'revenue': lambda price: price.sum()})\n",
    "\n",
    "rfm.columns = ['recency','frequency','monetary_value']\n",
    "\n",
    "rfm.describe()"
   ]
  },
  {
   "cell_type": "code",
   "execution_count": 21,
   "metadata": {},
   "outputs": [
    {
     "data": {
      "text/plain": [
       "<matplotlib.axes._subplots.AxesSubplot at 0x1c435e8cc88>"
      ]
     },
     "execution_count": 21,
     "metadata": {},
     "output_type": "execute_result"
    },
    {
     "data": {
      "image/png": "[encoded data removed]",
      "text/plain": [
       "<Figure size 1440x1080 with 3 Axes>"
      ]
     },
     "metadata": {
      "needs_background": "light"
     },
     "output_type": "display_data"
    }
   ],
   "source": [
    "warnings.filterwarnings(\"ignore\")\n",
    "\n",
    "plt.figure(figsize=(20, 15))\n",
    "plt.subplot(3, 3, 1)\n",
    "sns.distplot(rfm['recency'])\n",
    "plt.subplot(3, 3, 2)\n",
    "sns.distplot(rfm['frequency'])\n",
    "plt.subplot(3, 3, 3)\n",
    "sns.distplot(rfm['monetary_value'])"
   ]
  },
  {
   "cell_type": "markdown",
   "metadata": {},
   "source": [
    "Takeaway: The distributions of frequency and monetary value are extremely right skewed, especially for frequency. Its min, 25%, 50% and 75% percentile are all close to 1. These tells us customers are purchasing less frequently"
   ]
  },
  {
   "cell_type": "markdown",
   "metadata": {},
   "source": [
    "Next, we start the log transformation on the RFM dataframe so that the metrics will be put on the same scale."
   ]
  },
  {
   "cell_type": "code",
   "execution_count": 22,
   "metadata": {},
   "outputs": [],
   "source": [
    "rfm_log = rfm[['recency', 'frequency', 'monetary_value']].copy()\n",
    "rfm_log['recency'] = np.log(rfm_log['recency'] )\n",
    "rfm_log['frequency'] = np.log(rfm_log['frequency'] )\n",
    "rfm_log['monetary_value'] = np.log(rfm_log['monetary_value'] )"
   ]
  },
  {
   "cell_type": "markdown",
   "metadata": {},
   "source": [
    "Without standardization, the clustering algorithm could be biased since monetary value might be much higher than the other two variables (recency and frequency are measured in days while monetary value is in dollars term.)"
   ]
  },
  {
   "cell_type": "code",
   "execution_count": 23,
   "metadata": {},
   "outputs": [],
   "source": [
    "#standardizing the dataset \n",
    "scaler = StandardScaler()\n",
    "scaler.fit(rfm_log)\n",
    "\n",
    "#store it separately for clustering\n",
    "rfm_standard = scaler.transform(rfm_log)\n",
    "\n",
    "#turn the processed data back into a dataframe\n",
    "rfm_standard = pd.DataFrame(data = rfm_standard, \n",
    "                                index = rfm_log.index, \n",
    "                                columns = rfm_log.columns) "
   ]
  },
  {
   "cell_type": "markdown",
   "metadata": {},
   "source": [
    "We will now fit the data into a clustering algorithm so that the machine could learn patterns from the three metrics and group them accordingly. We will use KMeans algorithm"
   ]
  },
  {
   "cell_type": "code",
   "execution_count": 24,
   "metadata": {},
   "outputs": [
    {
     "data": {
      "image/png": "[encoded data removed]",
      "text/plain": [
       "<Figure size 432x288 with 1 Axes>"
      ]
     },
     "metadata": {
      "needs_background": "light"
     },
     "output_type": "display_data"
    }
   ],
   "source": [
    "sse = {}\n",
    "for k in range(1,11):\n",
    "\tkmeans = KMeans(n_clusters = k, random_state=1)\n",
    "\tkmeans.fit(rfm_standard)\n",
    "\tsse[k] = kmeans.inertia_ \n",
    "\n",
    "#plot SSE for each K\n",
    "plt.title('The Elbow Method')\n",
    "plt.xlabel('K'); plt.ylabel('SSE')\n",
    "sns.pointplot(x=list(sse.keys()), y=list(sse.values()))\n",
    "plt.show() "
   ]
  },
  {
   "cell_type": "markdown",
   "metadata": {},
   "source": [
    "Takeaway: we will use 3 as number of clusters"
   ]
  },
  {
   "cell_type": "code",
   "execution_count": 25,
   "metadata": {},
   "outputs": [
    {
     "name": "stdout",
     "output_type": "stream",
     "text": [
      "                 recency  frequency monetary_value       \n",
      "                    mean       mean           mean  count\n",
      "KMeanCluster                                             \n",
      "0             393.448702   2.897887     227.401572  22808\n",
      "1              35.421778  23.090516    1731.735544   3701\n",
      "2             415.043804   1.108325      72.515351  20660\n"
     ]
    }
   ],
   "source": [
    "kmeans = KMeans(n_clusters = 3, random_state=1)\n",
    "\n",
    "#compute k-means clustering on pre-processed data\n",
    "kmeans.fit(rfm_standard)\n",
    "\n",
    "#extract cluster labels from labels_ attribute\n",
    "cluster_labels = kmeans.labels_ \n",
    "\n",
    "cust_seg = rfm.assign(KMeanCluster = cluster_labels) \n",
    "\n",
    "summary = cust_seg.groupby(['KMeanCluster']).agg({\n",
    "    'recency':'mean',\n",
    "    'frequency':'mean',\n",
    "    'monetary_value':['mean','count']\n",
    "    })\n",
    "print(summary) "
   ]
  },
  {
   "cell_type": "markdown",
   "metadata": {},
   "source": [
    "Takeaway: Cluste 1 are our most valued customers, they have shopped 23 times, which is way higher than the other two groups. They shopped 35 days ago, while customers in Cluster 2 shopped 415 days ago. And most importantly, Cluster 1 customers have spent US$1,731"
   ]
  },
  {
   "cell_type": "code",
   "execution_count": 27,
   "metadata": {},
   "outputs": [],
   "source": [
    "#Attaching clusterid to order data\n",
    "order_with_cluster = order_raw.join(cust_seg[['KMeanCluster']],on='custno')"
   ]
  },
  {
   "cell_type": "markdown",
   "metadata": {},
   "source": [
    "# 3. Feature Engineering"
   ]
  },
  {
   "cell_type": "markdown",
   "metadata": {},
   "source": [
    "We will be creating time based features. The focus will be to avoid data leak i.e not to use any future unknown data. Below are the feature explanation:\n",
    "<br> note - we choose 35 days since recency for cluster 1 is 35 days\n",
    "<br> 1. browse_activity_last7days : browsing activity of the customer in last 7 days\n",
    "<br> 2. max_browse_cat_last7days : max browsed prodcat1 category in last 7 days\n",
    "<br> 3. max_browse_event_last7days : max browsed event2 category in last 7 days\n",
    "<br> 4. count_browse_event_last7days : count of unique event2 categories browsed in last 7 days\n",
    "<br> 5. browse_activity_last35days : browsing activity of the customer in last 35 days\n",
    "<br> 6. max_browse_cat_last35days : max browsed prodcat1 category in last 35 days\n",
    "<br> 7. max_browse_event_last35days : max browsed event2 category in last 35 days\n",
    "<br> 8. count_browse_event_last35days : count of unique event2 categories browsed in last 35 days\n",
    "<br> 9. order_activity_last7days : total order activity of the customer in last 7 days\n",
    "<br> 10. count_unique_orders_last7days : count of unique orders in last 7 days\n",
    "<br> 11. max_prodcat2_type_last7days : max ordered prodcat2 in last 7 days\n",
    "<br> 12. count_unique_prodcat2_last7days : count of unique prodcat2 categories in last 7 days\n",
    "<br> 13. total_rev_last7days : total revenue by customer in last 7 days\n",
    "<br> 14. mean_rev_last7days : mean revenue by customer in last 7 days\n",
    "<br> 15. order_activity_last35days : total order activity of the customer in last 35 days\n",
    "<br> 16. count_unique_orders_last35days : count of unique orders in last 35 days\n",
    "<br> 17. max_prodcat2_type_last35days : max ordered prodcat2 in last 35 days\n",
    "<br> 12. count_unique_prodcat2_last35days : count of unique prodcat2 categories in last 35 days\n",
    "<br> 13. total_rev_last35days : total revenue by customer in last 35 days\n",
    "<br> 14. mean_rev_last35days : mean revenue by customer in last 35 days\n",
    "<br> 15. day_of_week : numeric day of the week"
   ]
  },
  {
   "cell_type": "code",
   "execution_count": 28,
   "metadata": {},
   "outputs": [
    {
     "data": {
      "text/html": [
       "<div>\n",
       "<style scoped>\n",
       "    .dataframe tbody tr th:only-of-type {\n",
       "        vertical-align: middle;\n",
       "    }\n",
       "\n",
       "    .dataframe tbody tr th {\n",
       "        vertical-align: top;\n",
       "    }\n",
       "\n",
       "    .dataframe thead th {\n",
       "        text-align: right;\n",
       "    }\n",
       "</style>\n",
       "<table border=\"1\" class=\"dataframe\">\n",
       "  <thead>\n",
       "    <tr style=\"text-align: right;\">\n",
       "      <th></th>\n",
       "      <th>custno</th>\n",
       "      <th>ordno</th>\n",
       "      <th>date</th>\n",
       "      <th>prodcat2</th>\n",
       "      <th>prodcat1</th>\n",
       "      <th>revenue</th>\n",
       "      <th>KMeanCluster</th>\n",
       "    </tr>\n",
       "  </thead>\n",
       "  <tbody>\n",
       "    <tr>\n",
       "      <th>0</th>\n",
       "      <td>8</td>\n",
       "      <td>8</td>\n",
       "      <td>2016-06-23 20:28:19</td>\n",
       "      <td>2.0</td>\n",
       "      <td>2</td>\n",
       "      <td>132.19</td>\n",
       "      <td>1</td>\n",
       "    </tr>\n",
       "    <tr>\n",
       "      <th>1</th>\n",
       "      <td>8</td>\n",
       "      <td>8</td>\n",
       "      <td>2016-06-23 20:28:19</td>\n",
       "      <td>5.0</td>\n",
       "      <td>2</td>\n",
       "      <td>145.76</td>\n",
       "      <td>1</td>\n",
       "    </tr>\n",
       "    <tr>\n",
       "      <th>2</th>\n",
       "      <td>8</td>\n",
       "      <td>8</td>\n",
       "      <td>2016-06-23 20:28:19</td>\n",
       "      <td>35.0</td>\n",
       "      <td>2</td>\n",
       "      <td>138.44</td>\n",
       "      <td>1</td>\n",
       "    </tr>\n",
       "    <tr>\n",
       "      <th>3</th>\n",
       "      <td>8</td>\n",
       "      <td>8</td>\n",
       "      <td>2016-06-23 20:28:19</td>\n",
       "      <td>147.0</td>\n",
       "      <td>7</td>\n",
       "      <td>99.12</td>\n",
       "      <td>1</td>\n",
       "    </tr>\n",
       "    <tr>\n",
       "      <th>4</th>\n",
       "      <td>8</td>\n",
       "      <td>30964</td>\n",
       "      <td>2016-09-11 18:32:19</td>\n",
       "      <td>172.0</td>\n",
       "      <td>7</td>\n",
       "      <td>135.13</td>\n",
       "      <td>1</td>\n",
       "    </tr>\n",
       "  </tbody>\n",
       "</table>\n",
       "</div>"
      ],
      "text/plain": [
       "   custno  ordno                date  prodcat2  prodcat1  revenue  \\\n",
       "0       8      8 2016-06-23 20:28:19       2.0         2   132.19   \n",
       "1       8      8 2016-06-23 20:28:19       5.0         2   145.76   \n",
       "2       8      8 2016-06-23 20:28:19      35.0         2   138.44   \n",
       "3       8      8 2016-06-23 20:28:19     147.0         7    99.12   \n",
       "4       8  30964 2016-09-11 18:32:19     172.0         7   135.13   \n",
       "\n",
       "   KMeanCluster  \n",
       "0             1  \n",
       "1             1  \n",
       "2             1  \n",
       "3             1  \n",
       "4             1  "
      ]
     },
     "execution_count": 28,
     "metadata": {},
     "output_type": "execute_result"
    }
   ],
   "source": [
    "order_with_cluster1 = order_with_cluster[order_with_cluster[\"KMeanCluster\"]==1].reset_index(drop=True)\n",
    "order_with_cluster1 = order_with_cluster1.sort_values(by=['custno','date'],ascending = True).reset_index(drop=True)\n",
    "order_with_cluster1.head()"
   ]
  },
  {
   "cell_type": "code",
   "execution_count": 29,
   "metadata": {},
   "outputs": [],
   "source": [
    "def rolling_browsing_history(row,df,d):\n",
    "  \n",
    "    endtime = row['date']\n",
    "    starttime = row['date']-timedelta(days = d)\n",
    "   \n",
    "    df_filter = df[(df[\"custno\"]==row[\"custno\"]) & (df[\"date\"]>=starttime) & (df[\"date\"]<=endtime)].reset_index(drop=True)\n",
    "\n",
    "    if df_filter.shape[0]!=0:\n",
    "        browse_activity = df_filter.shape[0]\n",
    "        max_browse_prodcat = df_filter.prodcat1.value_counts().idxmax()  \n",
    "        max_browse_event = df_filter.event2.value_counts().idxmax() \n",
    "        unique_browse_event = df_filter.event2.nunique() \n",
    "        \n",
    "        return pd.Series((browse_activity,max_browse_prodcat,max_browse_event,unique_browse_event))\n",
    "    else:\n",
    "        return pd.Series((0,0,0,0))\n",
    "    \n",
    "\n",
    "order_with_cluster1[['browse_activity_last7days', 'max_browse_cat_last7days','max_browse_event_last7days','count_browse_event_last7days']] = order_with_cluster1.apply(rolling_browsing_history,df=online_raw,d=7, axis=1)\n",
    "order_with_cluster1[['browse_activity_last35days', 'max_browse_cat_last35days','max_browse_event_last35days','count_browse_event_last35days']] = order_with_cluster1.apply(rolling_browsing_history,df=online_raw,d=35, axis=1)\n",
    "\n",
    "def rolling_order_history(row,df,d):\n",
    "  \n",
    "    endtime = row['date']\n",
    "    starttime = row['date']-timedelta(days = d)\n",
    "   \n",
    "    df_filter = df[(df[\"custno\"]==row[\"custno\"]) & (df[\"date\"]>=starttime) & (df[\"date\"]<=endtime)].reset_index(drop=True)\n",
    "\n",
    "    if df_filter.shape[0]!=0:\n",
    "        order_activity = df_filter.shape[0]\n",
    "        count_unique_orders = df_filter.ordno.nunique() \n",
    "        max_prodcat2_type = df_filter.prodcat2.value_counts().idxmax()  \n",
    "        count_unique_prodcat2 = df_filter.prodcat2.nunique()\n",
    "        total_revenue = sum(df_filter.revenue)\n",
    "        mean_revenue = df_filter.revenue.mean()\n",
    "        \n",
    "        return pd.Series((order_activity,count_unique_orders,max_prodcat2_type,count_unique_prodcat2,total_revenue,mean_revenue))\n",
    "    else:\n",
    "        return pd.Series((0,0,0,0))\n",
    "\n",
    "order_with_cluster1[['order_activity_last7days', 'count_unique_orders_last7days','max_prodcat2_type_last7days','count_unique_prodcat2_last7days','total_rev_last7days','mean_rev_last7days']] = order_with_cluster1.apply(rolling_order_history,df=order_raw,d=7, axis=1)\n",
    "order_with_cluster1[['order_activity_last35days', 'count_unique_orders_last35days','max_prodcat2_type_last35days','count_unique_prodcat2_last35days','total_rev_last35days','mean_rev_last35days']] = order_with_cluster1.apply(rolling_order_history,df=order_raw,d=35, axis=1)\n",
    "\n",
    "order_with_cluster1['day_of_week'] = order_with_cluster1['date'].dt.dayofweek"
   ]
  },
  {
   "cell_type": "code",
   "execution_count": 30,
   "metadata": {},
   "outputs": [
    {
     "data": {
      "text/html": [
       "<div>\n",
       "<style scoped>\n",
       "    .dataframe tbody tr th:only-of-type {\n",
       "        vertical-align: middle;\n",
       "    }\n",
       "\n",
       "    .dataframe tbody tr th {\n",
       "        vertical-align: top;\n",
       "    }\n",
       "\n",
       "    .dataframe thead th {\n",
       "        text-align: right;\n",
       "    }\n",
       "</style>\n",
       "<table border=\"1\" class=\"dataframe\">\n",
       "  <thead>\n",
       "    <tr style=\"text-align: right;\">\n",
       "      <th></th>\n",
       "      <th>custno</th>\n",
       "      <th>ordno</th>\n",
       "      <th>date</th>\n",
       "      <th>prodcat2</th>\n",
       "      <th>prodcat1</th>\n",
       "      <th>revenue</th>\n",
       "      <th>KMeanCluster</th>\n",
       "      <th>browse_activity_last7days</th>\n",
       "      <th>max_browse_cat_last7days</th>\n",
       "      <th>max_browse_event_last7days</th>\n",
       "      <th>...</th>\n",
       "      <th>count_unique_prodcat2_last7days</th>\n",
       "      <th>total_rev_last7days</th>\n",
       "      <th>mean_rev_last7days</th>\n",
       "      <th>order_activity_last35days</th>\n",
       "      <th>count_unique_orders_last35days</th>\n",
       "      <th>max_prodcat2_type_last35days</th>\n",
       "      <th>count_unique_prodcat2_last35days</th>\n",
       "      <th>total_rev_last35days</th>\n",
       "      <th>mean_rev_last35days</th>\n",
       "      <th>day_of_week</th>\n",
       "    </tr>\n",
       "  </thead>\n",
       "  <tbody>\n",
       "    <tr>\n",
       "      <th>0</th>\n",
       "      <td>8</td>\n",
       "      <td>8</td>\n",
       "      <td>2016-06-23 20:28:19</td>\n",
       "      <td>2.0</td>\n",
       "      <td>2</td>\n",
       "      <td>132.19</td>\n",
       "      <td>1</td>\n",
       "      <td>2</td>\n",
       "      <td>3</td>\n",
       "      <td>4</td>\n",
       "      <td>...</td>\n",
       "      <td>4.0</td>\n",
       "      <td>515.51</td>\n",
       "      <td>128.8775</td>\n",
       "      <td>4.0</td>\n",
       "      <td>1.0</td>\n",
       "      <td>5.0</td>\n",
       "      <td>4.0</td>\n",
       "      <td>515.51</td>\n",
       "      <td>128.8775</td>\n",
       "      <td>3</td>\n",
       "    </tr>\n",
       "    <tr>\n",
       "      <th>1</th>\n",
       "      <td>8</td>\n",
       "      <td>8</td>\n",
       "      <td>2016-06-23 20:28:19</td>\n",
       "      <td>5.0</td>\n",
       "      <td>2</td>\n",
       "      <td>145.76</td>\n",
       "      <td>1</td>\n",
       "      <td>2</td>\n",
       "      <td>3</td>\n",
       "      <td>4</td>\n",
       "      <td>...</td>\n",
       "      <td>4.0</td>\n",
       "      <td>515.51</td>\n",
       "      <td>128.8775</td>\n",
       "      <td>4.0</td>\n",
       "      <td>1.0</td>\n",
       "      <td>5.0</td>\n",
       "      <td>4.0</td>\n",
       "      <td>515.51</td>\n",
       "      <td>128.8775</td>\n",
       "      <td>3</td>\n",
       "    </tr>\n",
       "    <tr>\n",
       "      <th>2</th>\n",
       "      <td>8</td>\n",
       "      <td>8</td>\n",
       "      <td>2016-06-23 20:28:19</td>\n",
       "      <td>35.0</td>\n",
       "      <td>2</td>\n",
       "      <td>138.44</td>\n",
       "      <td>1</td>\n",
       "      <td>2</td>\n",
       "      <td>3</td>\n",
       "      <td>4</td>\n",
       "      <td>...</td>\n",
       "      <td>4.0</td>\n",
       "      <td>515.51</td>\n",
       "      <td>128.8775</td>\n",
       "      <td>4.0</td>\n",
       "      <td>1.0</td>\n",
       "      <td>5.0</td>\n",
       "      <td>4.0</td>\n",
       "      <td>515.51</td>\n",
       "      <td>128.8775</td>\n",
       "      <td>3</td>\n",
       "    </tr>\n",
       "    <tr>\n",
       "      <th>3</th>\n",
       "      <td>8</td>\n",
       "      <td>8</td>\n",
       "      <td>2016-06-23 20:28:19</td>\n",
       "      <td>147.0</td>\n",
       "      <td>7</td>\n",
       "      <td>99.12</td>\n",
       "      <td>1</td>\n",
       "      <td>2</td>\n",
       "      <td>3</td>\n",
       "      <td>4</td>\n",
       "      <td>...</td>\n",
       "      <td>4.0</td>\n",
       "      <td>515.51</td>\n",
       "      <td>128.8775</td>\n",
       "      <td>4.0</td>\n",
       "      <td>1.0</td>\n",
       "      <td>5.0</td>\n",
       "      <td>4.0</td>\n",
       "      <td>515.51</td>\n",
       "      <td>128.8775</td>\n",
       "      <td>3</td>\n",
       "    </tr>\n",
       "    <tr>\n",
       "      <th>4</th>\n",
       "      <td>8</td>\n",
       "      <td>30964</td>\n",
       "      <td>2016-09-11 18:32:19</td>\n",
       "      <td>172.0</td>\n",
       "      <td>7</td>\n",
       "      <td>135.13</td>\n",
       "      <td>1</td>\n",
       "      <td>1</td>\n",
       "      <td>3</td>\n",
       "      <td>7</td>\n",
       "      <td>...</td>\n",
       "      <td>1.0</td>\n",
       "      <td>135.13</td>\n",
       "      <td>135.1300</td>\n",
       "      <td>1.0</td>\n",
       "      <td>1.0</td>\n",
       "      <td>172.0</td>\n",
       "      <td>1.0</td>\n",
       "      <td>135.13</td>\n",
       "      <td>135.1300</td>\n",
       "      <td>6</td>\n",
       "    </tr>\n",
       "  </tbody>\n",
       "</table>\n",
       "<p>5 rows × 28 columns</p>\n",
       "</div>"
      ],
      "text/plain": [
       "   custno  ordno                date  prodcat2  prodcat1  revenue  \\\n",
       "0       8      8 2016-06-23 20:28:19       2.0         2   132.19   \n",
       "1       8      8 2016-06-23 20:28:19       5.0         2   145.76   \n",
       "2       8      8 2016-06-23 20:28:19      35.0         2   138.44   \n",
       "3       8      8 2016-06-23 20:28:19     147.0         7    99.12   \n",
       "4       8  30964 2016-09-11 18:32:19     172.0         7   135.13   \n",
       "\n",
       "   KMeanCluster  browse_activity_last7days  max_browse_cat_last7days  \\\n",
       "0             1                          2                         3   \n",
       "1             1                          2                         3   \n",
       "2             1                          2                         3   \n",
       "3             1                          2                         3   \n",
       "4             1                          1                         3   \n",
       "\n",
       "   max_browse_event_last7days  ...  count_unique_prodcat2_last7days  \\\n",
       "0                           4  ...                              4.0   \n",
       "1                           4  ...                              4.0   \n",
       "2                           4  ...                              4.0   \n",
       "3                           4  ...                              4.0   \n",
       "4                           7  ...                              1.0   \n",
       "\n",
       "   total_rev_last7days  mean_rev_last7days  order_activity_last35days  \\\n",
       "0               515.51            128.8775                        4.0   \n",
       "1               515.51            128.8775                        4.0   \n",
       "2               515.51            128.8775                        4.0   \n",
       "3               515.51            128.8775                        4.0   \n",
       "4               135.13            135.1300                        1.0   \n",
       "\n",
       "   count_unique_orders_last35days  max_prodcat2_type_last35days  \\\n",
       "0                             1.0                           5.0   \n",
       "1                             1.0                           5.0   \n",
       "2                             1.0                           5.0   \n",
       "3                             1.0                           5.0   \n",
       "4                             1.0                         172.0   \n",
       "\n",
       "   count_unique_prodcat2_last35days  total_rev_last35days  \\\n",
       "0                               4.0                515.51   \n",
       "1                               4.0                515.51   \n",
       "2                               4.0                515.51   \n",
       "3                               4.0                515.51   \n",
       "4                               1.0                135.13   \n",
       "\n",
       "   mean_rev_last35days  day_of_week  \n",
       "0             128.8775            3  \n",
       "1             128.8775            3  \n",
       "2             128.8775            3  \n",
       "3             128.8775            3  \n",
       "4             135.1300            6  \n",
       "\n",
       "[5 rows x 28 columns]"
      ]
     },
     "execution_count": 30,
     "metadata": {},
     "output_type": "execute_result"
    }
   ],
   "source": [
    "order_with_cluster1.head()"
   ]
  },
  {
   "cell_type": "markdown",
   "metadata": {},
   "source": [
    "# 4. Feature Selection"
   ]
  },
  {
   "cell_type": "markdown",
   "metadata": {},
   "source": [
    "Correlation chart"
   ]
  },
  {
   "cell_type": "code",
   "execution_count": 31,
   "metadata": {},
   "outputs": [
    {
     "data": {
      "text/plain": [
       "Index(['custno', 'ordno', 'date', 'prodcat2', 'prodcat1', 'revenue',\n",
       "       'KMeanCluster', 'browse_activity_last7days', 'max_browse_cat_last7days',\n",
       "       'max_browse_event_last7days', 'count_browse_event_last7days',\n",
       "       'browse_activity_last35days', 'max_browse_cat_last35days',\n",
       "       'max_browse_event_last35days', 'count_browse_event_last35days',\n",
       "       'order_activity_last7days', 'count_unique_orders_last7days',\n",
       "       'max_prodcat2_type_last7days', 'count_unique_prodcat2_last7days',\n",
       "       'total_rev_last7days', 'mean_rev_last7days',\n",
       "       'order_activity_last35days', 'count_unique_orders_last35days',\n",
       "       'max_prodcat2_type_last35days', 'count_unique_prodcat2_last35days',\n",
       "       'total_rev_last35days', 'mean_rev_last35days', 'day_of_week'],\n",
       "      dtype='object')"
      ]
     },
     "execution_count": 31,
     "metadata": {},
     "output_type": "execute_result"
    }
   ],
   "source": [
    "order_with_cluster1.columns\n"
   ]
  },
  {
   "cell_type": "code",
   "execution_count": 32,
   "metadata": {},
   "outputs": [
    {
     "data": {
      "text/plain": [
       "<matplotlib.axes._subplots.AxesSubplot at 0x1c451db0348>"
      ]
     },
     "execution_count": 32,
     "metadata": {},
     "output_type": "execute_result"
    },
    {
     "data": {
      "image/png": "[encoded data removed]",
      "text/plain": [
       "<Figure size 432x288 with 2 Axes>"
      ]
     },
     "metadata": {
      "needs_background": "light"
     },
     "output_type": "display_data"
    }
   ],
   "source": [
    "sns.heatmap(order_with_cluster1.corr())"
   ]
  },
  {
   "cell_type": "code",
   "execution_count": 33,
   "metadata": {},
   "outputs": [
    {
     "data": {
      "text/html": [
       "<div>\n",
       "<style scoped>\n",
       "    .dataframe tbody tr th:only-of-type {\n",
       "        vertical-align: middle;\n",
       "    }\n",
       "\n",
       "    .dataframe tbody tr th {\n",
       "        vertical-align: top;\n",
       "    }\n",
       "\n",
       "    .dataframe thead th {\n",
       "        text-align: right;\n",
       "    }\n",
       "</style>\n",
       "<table border=\"1\" class=\"dataframe\">\n",
       "  <thead>\n",
       "    <tr style=\"text-align: right;\">\n",
       "      <th></th>\n",
       "      <th>custno</th>\n",
       "      <th>ordno</th>\n",
       "      <th>prodcat2</th>\n",
       "      <th>prodcat1</th>\n",
       "      <th>revenue</th>\n",
       "      <th>KMeanCluster</th>\n",
       "      <th>browse_activity_last7days</th>\n",
       "      <th>max_browse_cat_last7days</th>\n",
       "      <th>max_browse_event_last7days</th>\n",
       "      <th>count_browse_event_last7days</th>\n",
       "      <th>...</th>\n",
       "      <th>count_unique_prodcat2_last7days</th>\n",
       "      <th>total_rev_last7days</th>\n",
       "      <th>mean_rev_last7days</th>\n",
       "      <th>order_activity_last35days</th>\n",
       "      <th>count_unique_orders_last35days</th>\n",
       "      <th>max_prodcat2_type_last35days</th>\n",
       "      <th>count_unique_prodcat2_last35days</th>\n",
       "      <th>total_rev_last35days</th>\n",
       "      <th>mean_rev_last35days</th>\n",
       "      <th>day_of_week</th>\n",
       "    </tr>\n",
       "  </thead>\n",
       "  <tbody>\n",
       "    <tr>\n",
       "      <th>custno</th>\n",
       "      <td>1.000000</td>\n",
       "      <td>0.126180</td>\n",
       "      <td>0.002448</td>\n",
       "      <td>0.054319</td>\n",
       "      <td>0.003785</td>\n",
       "      <td>NaN</td>\n",
       "      <td>0.092631</td>\n",
       "      <td>0.057978</td>\n",
       "      <td>0.057430</td>\n",
       "      <td>0.086945</td>\n",
       "      <td>...</td>\n",
       "      <td>0.132779</td>\n",
       "      <td>0.115838</td>\n",
       "      <td>0.006474</td>\n",
       "      <td>0.223647</td>\n",
       "      <td>0.193112</td>\n",
       "      <td>0.022000</td>\n",
       "      <td>0.223916</td>\n",
       "      <td>0.211743</td>\n",
       "      <td>0.008239</td>\n",
       "      <td>0.001216</td>\n",
       "    </tr>\n",
       "    <tr>\n",
       "      <th>ordno</th>\n",
       "      <td>0.126180</td>\n",
       "      <td>1.000000</td>\n",
       "      <td>0.007044</td>\n",
       "      <td>0.161860</td>\n",
       "      <td>0.000331</td>\n",
       "      <td>NaN</td>\n",
       "      <td>0.057412</td>\n",
       "      <td>0.070050</td>\n",
       "      <td>0.046178</td>\n",
       "      <td>0.057632</td>\n",
       "      <td>...</td>\n",
       "      <td>0.328354</td>\n",
       "      <td>0.247396</td>\n",
       "      <td>0.000693</td>\n",
       "      <td>0.066320</td>\n",
       "      <td>0.141245</td>\n",
       "      <td>0.054801</td>\n",
       "      <td>0.106196</td>\n",
       "      <td>0.064322</td>\n",
       "      <td>0.000977</td>\n",
       "      <td>0.079652</td>\n",
       "    </tr>\n",
       "    <tr>\n",
       "      <th>prodcat2</th>\n",
       "      <td>0.002448</td>\n",
       "      <td>0.007044</td>\n",
       "      <td>1.000000</td>\n",
       "      <td>0.210719</td>\n",
       "      <td>0.002367</td>\n",
       "      <td>NaN</td>\n",
       "      <td>0.069466</td>\n",
       "      <td>0.071490</td>\n",
       "      <td>0.065797</td>\n",
       "      <td>0.076370</td>\n",
       "      <td>...</td>\n",
       "      <td>0.031826</td>\n",
       "      <td>0.019539</td>\n",
       "      <td>0.005309</td>\n",
       "      <td>0.047627</td>\n",
       "      <td>0.027049</td>\n",
       "      <td>0.426313</td>\n",
       "      <td>0.083298</td>\n",
       "      <td>0.046071</td>\n",
       "      <td>0.002272</td>\n",
       "      <td>0.017330</td>\n",
       "    </tr>\n",
       "    <tr>\n",
       "      <th>prodcat1</th>\n",
       "      <td>0.054319</td>\n",
       "      <td>0.161860</td>\n",
       "      <td>0.210719</td>\n",
       "      <td>1.000000</td>\n",
       "      <td>0.000089</td>\n",
       "      <td>NaN</td>\n",
       "      <td>0.064502</td>\n",
       "      <td>0.055217</td>\n",
       "      <td>0.049786</td>\n",
       "      <td>0.069952</td>\n",
       "      <td>...</td>\n",
       "      <td>0.035737</td>\n",
       "      <td>0.040548</td>\n",
       "      <td>0.000947</td>\n",
       "      <td>0.022270</td>\n",
       "      <td>0.056197</td>\n",
       "      <td>0.186813</td>\n",
       "      <td>0.056422</td>\n",
       "      <td>0.022889</td>\n",
       "      <td>0.004442</td>\n",
       "      <td>0.020183</td>\n",
       "    </tr>\n",
       "    <tr>\n",
       "      <th>revenue</th>\n",
       "      <td>0.003785</td>\n",
       "      <td>0.000331</td>\n",
       "      <td>0.002367</td>\n",
       "      <td>0.000089</td>\n",
       "      <td>1.000000</td>\n",
       "      <td>NaN</td>\n",
       "      <td>0.001982</td>\n",
       "      <td>0.001652</td>\n",
       "      <td>0.001477</td>\n",
       "      <td>0.000734</td>\n",
       "      <td>...</td>\n",
       "      <td>0.000677</td>\n",
       "      <td>0.240535</td>\n",
       "      <td>0.702439</td>\n",
       "      <td>0.001967</td>\n",
       "      <td>0.003240</td>\n",
       "      <td>0.002334</td>\n",
       "      <td>0.003312</td>\n",
       "      <td>0.117095</td>\n",
       "      <td>0.570577</td>\n",
       "      <td>0.006873</td>\n",
       "    </tr>\n",
       "    <tr>\n",
       "      <th>KMeanCluster</th>\n",
       "      <td>NaN</td>\n",
       "      <td>NaN</td>\n",
       "      <td>NaN</td>\n",
       "      <td>NaN</td>\n",
       "      <td>NaN</td>\n",
       "      <td>NaN</td>\n",
       "      <td>NaN</td>\n",
       "      <td>NaN</td>\n",
       "      <td>NaN</td>\n",
       "      <td>NaN</td>\n",
       "      <td>...</td>\n",
       "      <td>NaN</td>\n",
       "      <td>NaN</td>\n",
       "      <td>NaN</td>\n",
       "      <td>NaN</td>\n",
       "      <td>NaN</td>\n",
       "      <td>NaN</td>\n",
       "      <td>NaN</td>\n",
       "      <td>NaN</td>\n",
       "      <td>NaN</td>\n",
       "      <td>NaN</td>\n",
       "    </tr>\n",
       "    <tr>\n",
       "      <th>browse_activity_last7days</th>\n",
       "      <td>0.092631</td>\n",
       "      <td>0.057412</td>\n",
       "      <td>0.069466</td>\n",
       "      <td>0.064502</td>\n",
       "      <td>0.001982</td>\n",
       "      <td>NaN</td>\n",
       "      <td>1.000000</td>\n",
       "      <td>0.617395</td>\n",
       "      <td>0.566220</td>\n",
       "      <td>0.908198</td>\n",
       "      <td>...</td>\n",
       "      <td>0.265645</td>\n",
       "      <td>0.282646</td>\n",
       "      <td>0.003609</td>\n",
       "      <td>0.289456</td>\n",
       "      <td>0.254402</td>\n",
       "      <td>0.067839</td>\n",
       "      <td>0.253709</td>\n",
       "      <td>0.274469</td>\n",
       "      <td>0.000276</td>\n",
       "      <td>0.014498</td>\n",
       "    </tr>\n",
       "    <tr>\n",
       "      <th>max_browse_cat_last7days</th>\n",
       "      <td>0.057978</td>\n",
       "      <td>0.070050</td>\n",
       "      <td>0.071490</td>\n",
       "      <td>0.055217</td>\n",
       "      <td>0.001652</td>\n",
       "      <td>NaN</td>\n",
       "      <td>0.617395</td>\n",
       "      <td>1.000000</td>\n",
       "      <td>0.838785</td>\n",
       "      <td>0.735406</td>\n",
       "      <td>...</td>\n",
       "      <td>0.190845</td>\n",
       "      <td>0.175161</td>\n",
       "      <td>0.000028</td>\n",
       "      <td>0.140025</td>\n",
       "      <td>0.086182</td>\n",
       "      <td>0.060661</td>\n",
       "      <td>0.145530</td>\n",
       "      <td>0.133107</td>\n",
       "      <td>0.004608</td>\n",
       "      <td>0.028512</td>\n",
       "    </tr>\n",
       "    <tr>\n",
       "      <th>max_browse_event_last7days</th>\n",
       "      <td>0.057430</td>\n",
       "      <td>0.046178</td>\n",
       "      <td>0.065797</td>\n",
       "      <td>0.049786</td>\n",
       "      <td>0.001477</td>\n",
       "      <td>NaN</td>\n",
       "      <td>0.566220</td>\n",
       "      <td>0.838785</td>\n",
       "      <td>1.000000</td>\n",
       "      <td>0.665219</td>\n",
       "      <td>...</td>\n",
       "      <td>0.169981</td>\n",
       "      <td>0.155986</td>\n",
       "      <td>0.001268</td>\n",
       "      <td>0.136653</td>\n",
       "      <td>0.100213</td>\n",
       "      <td>0.055438</td>\n",
       "      <td>0.147322</td>\n",
       "      <td>0.130651</td>\n",
       "      <td>0.004743</td>\n",
       "      <td>0.012228</td>\n",
       "    </tr>\n",
       "    <tr>\n",
       "      <th>count_browse_event_last7days</th>\n",
       "      <td>0.086945</td>\n",
       "      <td>0.057632</td>\n",
       "      <td>0.076370</td>\n",
       "      <td>0.069952</td>\n",
       "      <td>0.000734</td>\n",
       "      <td>NaN</td>\n",
       "      <td>0.908198</td>\n",
       "      <td>0.735406</td>\n",
       "      <td>0.665219</td>\n",
       "      <td>1.000000</td>\n",
       "      <td>...</td>\n",
       "      <td>0.261806</td>\n",
       "      <td>0.256462</td>\n",
       "      <td>0.002606</td>\n",
       "      <td>0.255697</td>\n",
       "      <td>0.212880</td>\n",
       "      <td>0.072663</td>\n",
       "      <td>0.243891</td>\n",
       "      <td>0.241873</td>\n",
       "      <td>0.000281</td>\n",
       "      <td>0.017685</td>\n",
       "    </tr>\n",
       "    <tr>\n",
       "      <th>browse_activity_last35days</th>\n",
       "      <td>0.165518</td>\n",
       "      <td>0.001952</td>\n",
       "      <td>0.065971</td>\n",
       "      <td>0.074872</td>\n",
       "      <td>0.009658</td>\n",
       "      <td>NaN</td>\n",
       "      <td>0.707885</td>\n",
       "      <td>0.392845</td>\n",
       "      <td>0.361223</td>\n",
       "      <td>0.617360</td>\n",
       "      <td>...</td>\n",
       "      <td>0.214463</td>\n",
       "      <td>0.230030</td>\n",
       "      <td>0.014769</td>\n",
       "      <td>0.524872</td>\n",
       "      <td>0.510896</td>\n",
       "      <td>0.081744</td>\n",
       "      <td>0.457261</td>\n",
       "      <td>0.494473</td>\n",
       "      <td>0.011660</td>\n",
       "      <td>0.009337</td>\n",
       "    </tr>\n",
       "    <tr>\n",
       "      <th>max_browse_cat_last35days</th>\n",
       "      <td>0.094060</td>\n",
       "      <td>0.030957</td>\n",
       "      <td>0.072245</td>\n",
       "      <td>0.069017</td>\n",
       "      <td>0.002215</td>\n",
       "      <td>NaN</td>\n",
       "      <td>0.413000</td>\n",
       "      <td>0.679847</td>\n",
       "      <td>0.552768</td>\n",
       "      <td>0.489526</td>\n",
       "      <td>...</td>\n",
       "      <td>0.144721</td>\n",
       "      <td>0.126549</td>\n",
       "      <td>0.002787</td>\n",
       "      <td>0.207004</td>\n",
       "      <td>0.158097</td>\n",
       "      <td>0.069997</td>\n",
       "      <td>0.218150</td>\n",
       "      <td>0.195957</td>\n",
       "      <td>0.000358</td>\n",
       "      <td>0.016701</td>\n",
       "    </tr>\n",
       "    <tr>\n",
       "      <th>max_browse_event_last35days</th>\n",
       "      <td>0.085512</td>\n",
       "      <td>0.001493</td>\n",
       "      <td>0.060242</td>\n",
       "      <td>0.056689</td>\n",
       "      <td>0.002128</td>\n",
       "      <td>NaN</td>\n",
       "      <td>0.344585</td>\n",
       "      <td>0.511086</td>\n",
       "      <td>0.610905</td>\n",
       "      <td>0.396007</td>\n",
       "      <td>...</td>\n",
       "      <td>0.109856</td>\n",
       "      <td>0.095265</td>\n",
       "      <td>0.004485</td>\n",
       "      <td>0.191749</td>\n",
       "      <td>0.168256</td>\n",
       "      <td>0.058206</td>\n",
       "      <td>0.209011</td>\n",
       "      <td>0.181586</td>\n",
       "      <td>0.004166</td>\n",
       "      <td>0.000548</td>\n",
       "    </tr>\n",
       "    <tr>\n",
       "      <th>count_browse_event_last35days</th>\n",
       "      <td>0.168292</td>\n",
       "      <td>0.011790</td>\n",
       "      <td>0.082954</td>\n",
       "      <td>0.096141</td>\n",
       "      <td>0.006040</td>\n",
       "      <td>NaN</td>\n",
       "      <td>0.629993</td>\n",
       "      <td>0.510792</td>\n",
       "      <td>0.457236</td>\n",
       "      <td>0.683555</td>\n",
       "      <td>...</td>\n",
       "      <td>0.207401</td>\n",
       "      <td>0.199568</td>\n",
       "      <td>0.012246</td>\n",
       "      <td>0.460946</td>\n",
       "      <td>0.442998</td>\n",
       "      <td>0.095145</td>\n",
       "      <td>0.446149</td>\n",
       "      <td>0.434258</td>\n",
       "      <td>0.010470</td>\n",
       "      <td>0.008777</td>\n",
       "    </tr>\n",
       "    <tr>\n",
       "      <th>order_activity_last7days</th>\n",
       "      <td>0.132293</td>\n",
       "      <td>0.272116</td>\n",
       "      <td>0.017760</td>\n",
       "      <td>0.047077</td>\n",
       "      <td>0.001195</td>\n",
       "      <td>NaN</td>\n",
       "      <td>0.318473</td>\n",
       "      <td>0.195158</td>\n",
       "      <td>0.174466</td>\n",
       "      <td>0.289004</td>\n",
       "      <td>...</td>\n",
       "      <td>0.873756</td>\n",
       "      <td>0.909686</td>\n",
       "      <td>0.001817</td>\n",
       "      <td>0.627542</td>\n",
       "      <td>0.376284</td>\n",
       "      <td>0.012231</td>\n",
       "      <td>0.579736</td>\n",
       "      <td>0.606478</td>\n",
       "      <td>0.000921</td>\n",
       "      <td>0.028949</td>\n",
       "    </tr>\n",
       "    <tr>\n",
       "      <th>count_unique_orders_last7days</th>\n",
       "      <td>0.102706</td>\n",
       "      <td>0.081759</td>\n",
       "      <td>0.009219</td>\n",
       "      <td>0.024518</td>\n",
       "      <td>0.002249</td>\n",
       "      <td>NaN</td>\n",
       "      <td>0.305419</td>\n",
       "      <td>0.132894</td>\n",
       "      <td>0.136723</td>\n",
       "      <td>0.257389</td>\n",
       "      <td>...</td>\n",
       "      <td>0.373023</td>\n",
       "      <td>0.590990</td>\n",
       "      <td>0.004074</td>\n",
       "      <td>0.538628</td>\n",
       "      <td>0.646975</td>\n",
       "      <td>0.034128</td>\n",
       "      <td>0.358025</td>\n",
       "      <td>0.514723</td>\n",
       "      <td>0.002977</td>\n",
       "      <td>0.001371</td>\n",
       "    </tr>\n",
       "    <tr>\n",
       "      <th>max_prodcat2_type_last7days</th>\n",
       "      <td>0.027598</td>\n",
       "      <td>0.102848</td>\n",
       "      <td>0.541717</td>\n",
       "      <td>0.238930</td>\n",
       "      <td>0.002726</td>\n",
       "      <td>NaN</td>\n",
       "      <td>0.061647</td>\n",
       "      <td>0.051134</td>\n",
       "      <td>0.048833</td>\n",
       "      <td>0.065151</td>\n",
       "      <td>...</td>\n",
       "      <td>0.068730</td>\n",
       "      <td>0.050787</td>\n",
       "      <td>0.000414</td>\n",
       "      <td>0.018916</td>\n",
       "      <td>0.041770</td>\n",
       "      <td>0.683805</td>\n",
       "      <td>0.044061</td>\n",
       "      <td>0.016710</td>\n",
       "      <td>0.002073</td>\n",
       "      <td>0.022971</td>\n",
       "    </tr>\n",
       "    <tr>\n",
       "      <th>count_unique_prodcat2_last7days</th>\n",
       "      <td>0.132779</td>\n",
       "      <td>0.328354</td>\n",
       "      <td>0.031826</td>\n",
       "      <td>0.035737</td>\n",
       "      <td>0.000677</td>\n",
       "      <td>NaN</td>\n",
       "      <td>0.265645</td>\n",
       "      <td>0.190845</td>\n",
       "      <td>0.169981</td>\n",
       "      <td>0.261806</td>\n",
       "      <td>...</td>\n",
       "      <td>1.000000</td>\n",
       "      <td>0.797389</td>\n",
       "      <td>0.001679</td>\n",
       "      <td>0.532962</td>\n",
       "      <td>0.221997</td>\n",
       "      <td>0.020310</td>\n",
       "      <td>0.651184</td>\n",
       "      <td>0.514205</td>\n",
       "      <td>0.000915</td>\n",
       "      <td>0.026021</td>\n",
       "    </tr>\n",
       "    <tr>\n",
       "      <th>total_rev_last7days</th>\n",
       "      <td>0.115838</td>\n",
       "      <td>0.247396</td>\n",
       "      <td>0.019539</td>\n",
       "      <td>0.040548</td>\n",
       "      <td>0.240535</td>\n",
       "      <td>NaN</td>\n",
       "      <td>0.282646</td>\n",
       "      <td>0.175161</td>\n",
       "      <td>0.155986</td>\n",
       "      <td>0.256462</td>\n",
       "      <td>...</td>\n",
       "      <td>0.797389</td>\n",
       "      <td>1.000000</td>\n",
       "      <td>0.342232</td>\n",
       "      <td>0.570545</td>\n",
       "      <td>0.337510</td>\n",
       "      <td>0.009758</td>\n",
       "      <td>0.526586</td>\n",
       "      <td>0.637720</td>\n",
       "      <td>0.290116</td>\n",
       "      <td>0.033264</td>\n",
       "    </tr>\n",
       "    <tr>\n",
       "      <th>mean_rev_last7days</th>\n",
       "      <td>0.006474</td>\n",
       "      <td>0.000693</td>\n",
       "      <td>0.005309</td>\n",
       "      <td>0.000947</td>\n",
       "      <td>0.702439</td>\n",
       "      <td>NaN</td>\n",
       "      <td>0.003609</td>\n",
       "      <td>0.000028</td>\n",
       "      <td>0.001268</td>\n",
       "      <td>0.002606</td>\n",
       "      <td>...</td>\n",
       "      <td>0.001679</td>\n",
       "      <td>0.342232</td>\n",
       "      <td>1.000000</td>\n",
       "      <td>0.006315</td>\n",
       "      <td>0.008477</td>\n",
       "      <td>0.002379</td>\n",
       "      <td>0.007118</td>\n",
       "      <td>0.162990</td>\n",
       "      <td>0.812580</td>\n",
       "      <td>0.010518</td>\n",
       "    </tr>\n",
       "    <tr>\n",
       "      <th>order_activity_last35days</th>\n",
       "      <td>0.223647</td>\n",
       "      <td>0.066320</td>\n",
       "      <td>0.047627</td>\n",
       "      <td>0.022270</td>\n",
       "      <td>0.001967</td>\n",
       "      <td>NaN</td>\n",
       "      <td>0.289456</td>\n",
       "      <td>0.140025</td>\n",
       "      <td>0.136653</td>\n",
       "      <td>0.255697</td>\n",
       "      <td>...</td>\n",
       "      <td>0.532962</td>\n",
       "      <td>0.570545</td>\n",
       "      <td>0.006315</td>\n",
       "      <td>1.000000</td>\n",
       "      <td>0.850143</td>\n",
       "      <td>0.036384</td>\n",
       "      <td>0.863937</td>\n",
       "      <td>0.959838</td>\n",
       "      <td>0.006782</td>\n",
       "      <td>0.012048</td>\n",
       "    </tr>\n",
       "    <tr>\n",
       "      <th>count_unique_orders_last35days</th>\n",
       "      <td>0.193112</td>\n",
       "      <td>0.141245</td>\n",
       "      <td>0.027049</td>\n",
       "      <td>0.056197</td>\n",
       "      <td>0.003240</td>\n",
       "      <td>NaN</td>\n",
       "      <td>0.254402</td>\n",
       "      <td>0.086182</td>\n",
       "      <td>0.100213</td>\n",
       "      <td>0.212880</td>\n",
       "      <td>...</td>\n",
       "      <td>0.221997</td>\n",
       "      <td>0.337510</td>\n",
       "      <td>0.008477</td>\n",
       "      <td>0.850143</td>\n",
       "      <td>1.000000</td>\n",
       "      <td>0.040310</td>\n",
       "      <td>0.655729</td>\n",
       "      <td>0.807930</td>\n",
       "      <td>0.010670</td>\n",
       "      <td>0.036646</td>\n",
       "    </tr>\n",
       "    <tr>\n",
       "      <th>max_prodcat2_type_last35days</th>\n",
       "      <td>0.022000</td>\n",
       "      <td>0.054801</td>\n",
       "      <td>0.426313</td>\n",
       "      <td>0.186813</td>\n",
       "      <td>0.002334</td>\n",
       "      <td>NaN</td>\n",
       "      <td>0.067839</td>\n",
       "      <td>0.060661</td>\n",
       "      <td>0.055438</td>\n",
       "      <td>0.072663</td>\n",
       "      <td>...</td>\n",
       "      <td>0.020310</td>\n",
       "      <td>0.009758</td>\n",
       "      <td>0.002379</td>\n",
       "      <td>0.036384</td>\n",
       "      <td>0.040310</td>\n",
       "      <td>1.000000</td>\n",
       "      <td>0.052885</td>\n",
       "      <td>0.035572</td>\n",
       "      <td>0.000942</td>\n",
       "      <td>0.013518</td>\n",
       "    </tr>\n",
       "    <tr>\n",
       "      <th>count_unique_prodcat2_last35days</th>\n",
       "      <td>0.223916</td>\n",
       "      <td>0.106196</td>\n",
       "      <td>0.083298</td>\n",
       "      <td>0.056422</td>\n",
       "      <td>0.003312</td>\n",
       "      <td>NaN</td>\n",
       "      <td>0.253709</td>\n",
       "      <td>0.145530</td>\n",
       "      <td>0.147322</td>\n",
       "      <td>0.243891</td>\n",
       "      <td>...</td>\n",
       "      <td>0.651184</td>\n",
       "      <td>0.526586</td>\n",
       "      <td>0.007118</td>\n",
       "      <td>0.863937</td>\n",
       "      <td>0.655729</td>\n",
       "      <td>0.052885</td>\n",
       "      <td>1.000000</td>\n",
       "      <td>0.826771</td>\n",
       "      <td>0.008584</td>\n",
       "      <td>0.023731</td>\n",
       "    </tr>\n",
       "    <tr>\n",
       "      <th>total_rev_last35days</th>\n",
       "      <td>0.211743</td>\n",
       "      <td>0.064322</td>\n",
       "      <td>0.046071</td>\n",
       "      <td>0.022889</td>\n",
       "      <td>0.117095</td>\n",
       "      <td>NaN</td>\n",
       "      <td>0.274469</td>\n",
       "      <td>0.133107</td>\n",
       "      <td>0.130651</td>\n",
       "      <td>0.241873</td>\n",
       "      <td>...</td>\n",
       "      <td>0.514205</td>\n",
       "      <td>0.637720</td>\n",
       "      <td>0.162990</td>\n",
       "      <td>0.959838</td>\n",
       "      <td>0.807930</td>\n",
       "      <td>0.035572</td>\n",
       "      <td>0.826771</td>\n",
       "      <td>1.000000</td>\n",
       "      <td>0.202122</td>\n",
       "      <td>0.006580</td>\n",
       "    </tr>\n",
       "    <tr>\n",
       "      <th>mean_rev_last35days</th>\n",
       "      <td>0.008239</td>\n",
       "      <td>0.000977</td>\n",
       "      <td>0.002272</td>\n",
       "      <td>0.004442</td>\n",
       "      <td>0.570577</td>\n",
       "      <td>NaN</td>\n",
       "      <td>0.000276</td>\n",
       "      <td>0.004608</td>\n",
       "      <td>0.004743</td>\n",
       "      <td>0.000281</td>\n",
       "      <td>...</td>\n",
       "      <td>0.000915</td>\n",
       "      <td>0.290116</td>\n",
       "      <td>0.812580</td>\n",
       "      <td>0.006782</td>\n",
       "      <td>0.010670</td>\n",
       "      <td>0.000942</td>\n",
       "      <td>0.008584</td>\n",
       "      <td>0.202122</td>\n",
       "      <td>1.000000</td>\n",
       "      <td>0.007988</td>\n",
       "    </tr>\n",
       "    <tr>\n",
       "      <th>day_of_week</th>\n",
       "      <td>0.001216</td>\n",
       "      <td>0.079652</td>\n",
       "      <td>0.017330</td>\n",
       "      <td>0.020183</td>\n",
       "      <td>0.006873</td>\n",
       "      <td>NaN</td>\n",
       "      <td>0.014498</td>\n",
       "      <td>0.028512</td>\n",
       "      <td>0.012228</td>\n",
       "      <td>0.017685</td>\n",
       "      <td>...</td>\n",
       "      <td>0.026021</td>\n",
       "      <td>0.033264</td>\n",
       "      <td>0.010518</td>\n",
       "      <td>0.012048</td>\n",
       "      <td>0.036646</td>\n",
       "      <td>0.013518</td>\n",
       "      <td>0.023731</td>\n",
       "      <td>0.006580</td>\n",
       "      <td>0.007988</td>\n",
       "      <td>1.000000</td>\n",
       "    </tr>\n",
       "  </tbody>\n",
       "</table>\n",
       "<p>27 rows × 27 columns</p>\n",
       "</div>"
      ],
      "text/plain": [
       "                                    custno     ordno  prodcat2  prodcat1  \\\n",
       "custno                            1.000000  0.126180  0.002448  0.054319   \n",
       "ordno                             0.126180  1.000000  0.007044  0.161860   \n",
       "prodcat2                          0.002448  0.007044  1.000000  0.210719   \n",
       "prodcat1                          0.054319  0.161860  0.210719  1.000000   \n",
       "revenue                           0.003785  0.000331  0.002367  0.000089   \n",
       "KMeanCluster                           NaN       NaN       NaN       NaN   \n",
       "browse_activity_last7days         0.092631  0.057412  0.069466  0.064502   \n",
       "max_browse_cat_last7days          0.057978  0.070050  0.071490  0.055217   \n",
       "max_browse_event_last7days        0.057430  0.046178  0.065797  0.049786   \n",
       "count_browse_event_last7days      0.086945  0.057632  0.076370  0.069952   \n",
       "browse_activity_last35days        0.165518  0.001952  0.065971  0.074872   \n",
       "max_browse_cat_last35days         0.094060  0.030957  0.072245  0.069017   \n",
       "max_browse_event_last35days       0.085512  0.001493  0.060242  0.056689   \n",
       "count_browse_event_last35days     0.168292  0.011790  0.082954  0.096141   \n",
       "order_activity_last7days          0.132293  0.272116  0.017760  0.047077   \n",
       "count_unique_orders_last7days     0.102706  0.081759  0.009219  0.024518   \n",
       "max_prodcat2_type_last7days       0.027598  0.102848  0.541717  0.238930   \n",
       "count_unique_prodcat2_last7days   0.132779  0.328354  0.031826  0.035737   \n",
       "total_rev_last7days               0.115838  0.247396  0.019539  0.040548   \n",
       "mean_rev_last7days                0.006474  0.000693  0.005309  0.000947   \n",
       "order_activity_last35days         0.223647  0.066320  0.047627  0.022270   \n",
       "count_unique_orders_last35days    0.193112  0.141245  0.027049  0.056197   \n",
       "max_prodcat2_type_last35days      0.022000  0.054801  0.426313  0.186813   \n",
       "count_unique_prodcat2_last35days  0.223916  0.106196  0.083298  0.056422   \n",
       "total_rev_last35days              0.211743  0.064322  0.046071  0.022889   \n",
       "mean_rev_last35days               0.008239  0.000977  0.002272  0.004442   \n",
       "day_of_week                       0.001216  0.079652  0.017330  0.020183   \n",
       "\n",
       "                                   revenue  KMeanCluster  \\\n",
       "custno                            0.003785           NaN   \n",
       "ordno                             0.000331           NaN   \n",
       "prodcat2                          0.002367           NaN   \n",
       "prodcat1                          0.000089           NaN   \n",
       "revenue                           1.000000           NaN   \n",
       "KMeanCluster                           NaN           NaN   \n",
       "browse_activity_last7days         0.001982           NaN   \n",
       "max_browse_cat_last7days          0.001652           NaN   \n",
       "max_browse_event_last7days        0.001477           NaN   \n",
       "count_browse_event_last7days      0.000734           NaN   \n",
       "browse_activity_last35days        0.009658           NaN   \n",
       "max_browse_cat_last35days         0.002215           NaN   \n",
       "max_browse_event_last35days       0.002128           NaN   \n",
       "count_browse_event_last35days     0.006040           NaN   \n",
       "order_activity_last7days          0.001195           NaN   \n",
       "count_unique_orders_last7days     0.002249           NaN   \n",
       "max_prodcat2_type_last7days       0.002726           NaN   \n",
       "count_unique_prodcat2_last7days   0.000677           NaN   \n",
       "total_rev_last7days               0.240535           NaN   \n",
       "mean_rev_last7days                0.702439           NaN   \n",
       "order_activity_last35days         0.001967           NaN   \n",
       "count_unique_orders_last35days    0.003240           NaN   \n",
       "max_prodcat2_type_last35days      0.002334           NaN   \n",
       "count_unique_prodcat2_last35days  0.003312           NaN   \n",
       "total_rev_last35days              0.117095           NaN   \n",
       "mean_rev_last35days               0.570577           NaN   \n",
       "day_of_week                       0.006873           NaN   \n",
       "\n",
       "                                  browse_activity_last7days  \\\n",
       "custno                                             0.092631   \n",
       "ordno                                              0.057412   \n",
       "prodcat2                                           0.069466   \n",
       "prodcat1                                           0.064502   \n",
       "revenue                                            0.001982   \n",
       "KMeanCluster                                            NaN   \n",
       "browse_activity_last7days                          1.000000   \n",
       "max_browse_cat_last7days                           0.617395   \n",
       "max_browse_event_last7days                         0.566220   \n",
       "count_browse_event_last7days                       0.908198   \n",
       "browse_activity_last35days                         0.707885   \n",
       "max_browse_cat_last35days                          0.413000   \n",
       "max_browse_event_last35days                        0.344585   \n",
       "count_browse_event_last35days                      0.629993   \n",
       "order_activity_last7days                           0.318473   \n",
       "count_unique_orders_last7days                      0.305419   \n",
       "max_prodcat2_type_last7days                        0.061647   \n",
       "count_unique_prodcat2_last7days                    0.265645   \n",
       "total_rev_last7days                                0.282646   \n",
       "mean_rev_last7days                                 0.003609   \n",
       "order_activity_last35days                          0.289456   \n",
       "count_unique_orders_last35days                     0.254402   \n",
       "max_prodcat2_type_last35days                       0.067839   \n",
       "count_unique_prodcat2_last35days                   0.253709   \n",
       "total_rev_last35days                               0.274469   \n",
       "mean_rev_last35days                                0.000276   \n",
       "day_of_week                                        0.014498   \n",
       "\n",
       "                                  max_browse_cat_last7days  \\\n",
       "custno                                            0.057978   \n",
       "ordno                                             0.070050   \n",
       "prodcat2                                          0.071490   \n",
       "prodcat1                                          0.055217   \n",
       "revenue                                           0.001652   \n",
       "KMeanCluster                                           NaN   \n",
       "browse_activity_last7days                         0.617395   \n",
       "max_browse_cat_last7days                          1.000000   \n",
       "max_browse_event_last7days                        0.838785   \n",
       "count_browse_event_last7days                      0.735406   \n",
       "browse_activity_last35days                        0.392845   \n",
       "max_browse_cat_last35days                         0.679847   \n",
       "max_browse_event_last35days                       0.511086   \n",
       "count_browse_event_last35days                     0.510792   \n",
       "order_activity_last7days                          0.195158   \n",
       "count_unique_orders_last7days                     0.132894   \n",
       "max_prodcat2_type_last7days                       0.051134   \n",
       "count_unique_prodcat2_last7days                   0.190845   \n",
       "total_rev_last7days                               0.175161   \n",
       "mean_rev_last7days                                0.000028   \n",
       "order_activity_last35days                         0.140025   \n",
       "count_unique_orders_last35days                    0.086182   \n",
       "max_prodcat2_type_last35days                      0.060661   \n",
       "count_unique_prodcat2_last35days                  0.145530   \n",
       "total_rev_last35days                              0.133107   \n",
       "mean_rev_last35days                               0.004608   \n",
       "day_of_week                                       0.028512   \n",
       "\n",
       "                                  max_browse_event_last7days  \\\n",
       "custno                                              0.057430   \n",
       "ordno                                               0.046178   \n",
       "prodcat2                                            0.065797   \n",
       "prodcat1                                            0.049786   \n",
       "revenue                                             0.001477   \n",
       "KMeanCluster                                             NaN   \n",
       "browse_activity_last7days                           0.566220   \n",
       "max_browse_cat_last7days                            0.838785   \n",
       "max_browse_event_last7days                          1.000000   \n",
       "count_browse_event_last7days                        0.665219   \n",
       "browse_activity_last35days                          0.361223   \n",
       "max_browse_cat_last35days                           0.552768   \n",
       "max_browse_event_last35days                         0.610905   \n",
       "count_browse_event_last35days                       0.457236   \n",
       "order_activity_last7days                            0.174466   \n",
       "count_unique_orders_last7days                       0.136723   \n",
       "max_prodcat2_type_last7days                         0.048833   \n",
       "count_unique_prodcat2_last7days                     0.169981   \n",
       "total_rev_last7days                                 0.155986   \n",
       "mean_rev_last7days                                  0.001268   \n",
       "order_activity_last35days                           0.136653   \n",
       "count_unique_orders_last35days                      0.100213   \n",
       "max_prodcat2_type_last35days                        0.055438   \n",
       "count_unique_prodcat2_last35days                    0.147322   \n",
       "total_rev_last35days                                0.130651   \n",
       "mean_rev_last35days                                 0.004743   \n",
       "day_of_week                                         0.012228   \n",
       "\n",
       "                                  count_browse_event_last7days  ...  \\\n",
       "custno                                                0.086945  ...   \n",
       "ordno                                                 0.057632  ...   \n",
       "prodcat2                                              0.076370  ...   \n",
       "prodcat1                                              0.069952  ...   \n",
       "revenue                                               0.000734  ...   \n",
       "KMeanCluster                                               NaN  ...   \n",
       "browse_activity_last7days                             0.908198  ...   \n",
       "max_browse_cat_last7days                              0.735406  ...   \n",
       "max_browse_event_last7days                            0.665219  ...   \n",
       "count_browse_event_last7days                          1.000000  ...   \n",
       "browse_activity_last35days                            0.617360  ...   \n",
       "max_browse_cat_last35days                             0.489526  ...   \n",
       "max_browse_event_last35days                           0.396007  ...   \n",
       "count_browse_event_last35days                         0.683555  ...   \n",
       "order_activity_last7days                              0.289004  ...   \n",
       "count_unique_orders_last7days                         0.257389  ...   \n",
       "max_prodcat2_type_last7days                           0.065151  ...   \n",
       "count_unique_prodcat2_last7days                       0.261806  ...   \n",
       "total_rev_last7days                                   0.256462  ...   \n",
       "mean_rev_last7days                                    0.002606  ...   \n",
       "order_activity_last35days                             0.255697  ...   \n",
       "count_unique_orders_last35days                        0.212880  ...   \n",
       "max_prodcat2_type_last35days                          0.072663  ...   \n",
       "count_unique_prodcat2_last35days                      0.243891  ...   \n",
       "total_rev_last35days                                  0.241873  ...   \n",
       "mean_rev_last35days                                   0.000281  ...   \n",
       "day_of_week                                           0.017685  ...   \n",
       "\n",
       "                                  count_unique_prodcat2_last7days  \\\n",
       "custno                                                   0.132779   \n",
       "ordno                                                    0.328354   \n",
       "prodcat2                                                 0.031826   \n",
       "prodcat1                                                 0.035737   \n",
       "revenue                                                  0.000677   \n",
       "KMeanCluster                                                  NaN   \n",
       "browse_activity_last7days                                0.265645   \n",
       "max_browse_cat_last7days                                 0.190845   \n",
       "max_browse_event_last7days                               0.169981   \n",
       "count_browse_event_last7days                             0.261806   \n",
       "browse_activity_last35days                               0.214463   \n",
       "max_browse_cat_last35days                                0.144721   \n",
       "max_browse_event_last35days                              0.109856   \n",
       "count_browse_event_last35days                            0.207401   \n",
       "order_activity_last7days                                 0.873756   \n",
       "count_unique_orders_last7days                            0.373023   \n",
       "max_prodcat2_type_last7days                              0.068730   \n",
       "count_unique_prodcat2_last7days                          1.000000   \n",
       "total_rev_last7days                                      0.797389   \n",
       "mean_rev_last7days                                       0.001679   \n",
       "order_activity_last35days                                0.532962   \n",
       "count_unique_orders_last35days                           0.221997   \n",
       "max_prodcat2_type_last35days                             0.020310   \n",
       "count_unique_prodcat2_last35days                         0.651184   \n",
       "total_rev_last35days                                     0.514205   \n",
       "mean_rev_last35days                                      0.000915   \n",
       "day_of_week                                              0.026021   \n",
       "\n",
       "                                  total_rev_last7days  mean_rev_last7days  \\\n",
       "custno                                       0.115838            0.006474   \n",
       "ordno                                        0.247396            0.000693   \n",
       "prodcat2                                     0.019539            0.005309   \n",
       "prodcat1                                     0.040548            0.000947   \n",
       "revenue                                      0.240535            0.702439   \n",
       "KMeanCluster                                      NaN                 NaN   \n",
       "browse_activity_last7days                    0.282646            0.003609   \n",
       "max_browse_cat_last7days                     0.175161            0.000028   \n",
       "max_browse_event_last7days                   0.155986            0.001268   \n",
       "count_browse_event_last7days                 0.256462            0.002606   \n",
       "browse_activity_last35days                   0.230030            0.014769   \n",
       "max_browse_cat_last35days                    0.126549            0.002787   \n",
       "max_browse_event_last35days                  0.095265            0.004485   \n",
       "count_browse_event_last35days                0.199568            0.012246   \n",
       "order_activity_last7days                     0.909686            0.001817   \n",
       "count_unique_orders_last7days                0.590990            0.004074   \n",
       "max_prodcat2_type_last7days                  0.050787            0.000414   \n",
       "count_unique_prodcat2_last7days              0.797389            0.001679   \n",
       "total_rev_last7days                          1.000000            0.342232   \n",
       "mean_rev_last7days                           0.342232            1.000000   \n",
       "order_activity_last35days                    0.570545            0.006315   \n",
       "count_unique_orders_last35days               0.337510            0.008477   \n",
       "max_prodcat2_type_last35days                 0.009758            0.002379   \n",
       "count_unique_prodcat2_last35days             0.526586            0.007118   \n",
       "total_rev_last35days                         0.637720            0.162990   \n",
       "mean_rev_last35days                          0.290116            0.812580   \n",
       "day_of_week                                  0.033264            0.010518   \n",
       "\n",
       "                                  order_activity_last35days  \\\n",
       "custno                                             0.223647   \n",
       "ordno                                              0.066320   \n",
       "prodcat2                                           0.047627   \n",
       "prodcat1                                           0.022270   \n",
       "revenue                                            0.001967   \n",
       "KMeanCluster                                            NaN   \n",
       "browse_activity_last7days                          0.289456   \n",
       "max_browse_cat_last7days                           0.140025   \n",
       "max_browse_event_last7days                         0.136653   \n",
       "count_browse_event_last7days                       0.255697   \n",
       "browse_activity_last35days                         0.524872   \n",
       "max_browse_cat_last35days                          0.207004   \n",
       "max_browse_event_last35days                        0.191749   \n",
       "count_browse_event_last35days                      0.460946   \n",
       "order_activity_last7days                           0.627542   \n",
       "count_unique_orders_last7days                      0.538628   \n",
       "max_prodcat2_type_last7days                        0.018916   \n",
       "count_unique_prodcat2_last7days                    0.532962   \n",
       "total_rev_last7days                                0.570545   \n",
       "mean_rev_last7days                                 0.006315   \n",
       "order_activity_last35days                          1.000000   \n",
       "count_unique_orders_last35days                     0.850143   \n",
       "max_prodcat2_type_last35days                       0.036384   \n",
       "count_unique_prodcat2_last35days                   0.863937   \n",
       "total_rev_last35days                               0.959838   \n",
       "mean_rev_last35days                                0.006782   \n",
       "day_of_week                                        0.012048   \n",
       "\n",
       "                                  count_unique_orders_last35days  \\\n",
       "custno                                                  0.193112   \n",
       "ordno                                                   0.141245   \n",
       "prodcat2                                                0.027049   \n",
       "prodcat1                                                0.056197   \n",
       "revenue                                                 0.003240   \n",
       "KMeanCluster                                                 NaN   \n",
       "browse_activity_last7days                               0.254402   \n",
       "max_browse_cat_last7days                                0.086182   \n",
       "max_browse_event_last7days                              0.100213   \n",
       "count_browse_event_last7days                            0.212880   \n",
       "browse_activity_last35days                              0.510896   \n",
       "max_browse_cat_last35days                               0.158097   \n",
       "max_browse_event_last35days                             0.168256   \n",
       "count_browse_event_last35days                           0.442998   \n",
       "order_activity_last7days                                0.376284   \n",
       "count_unique_orders_last7days                           0.646975   \n",
       "max_prodcat2_type_last7days                             0.041770   \n",
       "count_unique_prodcat2_last7days                         0.221997   \n",
       "total_rev_last7days                                     0.337510   \n",
       "mean_rev_last7days                                      0.008477   \n",
       "order_activity_last35days                               0.850143   \n",
       "count_unique_orders_last35days                          1.000000   \n",
       "max_prodcat2_type_last35days                            0.040310   \n",
       "count_unique_prodcat2_last35days                        0.655729   \n",
       "total_rev_last35days                                    0.807930   \n",
       "mean_rev_last35days                                     0.010670   \n",
       "day_of_week                                             0.036646   \n",
       "\n",
       "                                  max_prodcat2_type_last35days  \\\n",
       "custno                                                0.022000   \n",
       "ordno                                                 0.054801   \n",
       "prodcat2                                              0.426313   \n",
       "prodcat1                                              0.186813   \n",
       "revenue                                               0.002334   \n",
       "KMeanCluster                                               NaN   \n",
       "browse_activity_last7days                             0.067839   \n",
       "max_browse_cat_last7days                              0.060661   \n",
       "max_browse_event_last7days                            0.055438   \n",
       "count_browse_event_last7days                          0.072663   \n",
       "browse_activity_last35days                            0.081744   \n",
       "max_browse_cat_last35days                             0.069997   \n",
       "max_browse_event_last35days                           0.058206   \n",
       "count_browse_event_last35days                         0.095145   \n",
       "order_activity_last7days                              0.012231   \n",
       "count_unique_orders_last7days                         0.034128   \n",
       "max_prodcat2_type_last7days                           0.683805   \n",
       "count_unique_prodcat2_last7days                       0.020310   \n",
       "total_rev_last7days                                   0.009758   \n",
       "mean_rev_last7days                                    0.002379   \n",
       "order_activity_last35days                             0.036384   \n",
       "count_unique_orders_last35days                        0.040310   \n",
       "max_prodcat2_type_last35days                          1.000000   \n",
       "count_unique_prodcat2_last35days                      0.052885   \n",
       "total_rev_last35days                                  0.035572   \n",
       "mean_rev_last35days                                   0.000942   \n",
       "day_of_week                                           0.013518   \n",
       "\n",
       "                                  count_unique_prodcat2_last35days  \\\n",
       "custno                                                    0.223916   \n",
       "ordno                                                     0.106196   \n",
       "prodcat2                                                  0.083298   \n",
       "prodcat1                                                  0.056422   \n",
       "revenue                                                   0.003312   \n",
       "KMeanCluster                                                   NaN   \n",
       "browse_activity_last7days                                 0.253709   \n",
       "max_browse_cat_last7days                                  0.145530   \n",
       "max_browse_event_last7days                                0.147322   \n",
       "count_browse_event_last7days                              0.243891   \n",
       "browse_activity_last35days                                0.457261   \n",
       "max_browse_cat_last35days                                 0.218150   \n",
       "max_browse_event_last35days                               0.209011   \n",
       "count_browse_event_last35days                             0.446149   \n",
       "order_activity_last7days                                  0.579736   \n",
       "count_unique_orders_last7days                             0.358025   \n",
       "max_prodcat2_type_last7days                               0.044061   \n",
       "count_unique_prodcat2_last7days                           0.651184   \n",
       "total_rev_last7days                                       0.526586   \n",
       "mean_rev_last7days                                        0.007118   \n",
       "order_activity_last35days                                 0.863937   \n",
       "count_unique_orders_last35days                            0.655729   \n",
       "max_prodcat2_type_last35days                              0.052885   \n",
       "count_unique_prodcat2_last35days                          1.000000   \n",
       "total_rev_last35days                                      0.826771   \n",
       "mean_rev_last35days                                       0.008584   \n",
       "day_of_week                                               0.023731   \n",
       "\n",
       "                                  total_rev_last35days  mean_rev_last35days  \\\n",
       "custno                                        0.211743             0.008239   \n",
       "ordno                                         0.064322             0.000977   \n",
       "prodcat2                                      0.046071             0.002272   \n",
       "prodcat1                                      0.022889             0.004442   \n",
       "revenue                                       0.117095             0.570577   \n",
       "KMeanCluster                                       NaN                  NaN   \n",
       "browse_activity_last7days                     0.274469             0.000276   \n",
       "max_browse_cat_last7days                      0.133107             0.004608   \n",
       "max_browse_event_last7days                    0.130651             0.004743   \n",
       "count_browse_event_last7days                  0.241873             0.000281   \n",
       "browse_activity_last35days                    0.494473             0.011660   \n",
       "max_browse_cat_last35days                     0.195957             0.000358   \n",
       "max_browse_event_last35days                   0.181586             0.004166   \n",
       "count_browse_event_last35days                 0.434258             0.010470   \n",
       "order_activity_last7days                      0.606478             0.000921   \n",
       "count_unique_orders_last7days                 0.514723             0.002977   \n",
       "max_prodcat2_type_last7days                   0.016710             0.002073   \n",
       "count_unique_prodcat2_last7days               0.514205             0.000915   \n",
       "total_rev_last7days                           0.637720             0.290116   \n",
       "mean_rev_last7days                            0.162990             0.812580   \n",
       "order_activity_last35days                     0.959838             0.006782   \n",
       "count_unique_orders_last35days                0.807930             0.010670   \n",
       "max_prodcat2_type_last35days                  0.035572             0.000942   \n",
       "count_unique_prodcat2_last35days              0.826771             0.008584   \n",
       "total_rev_last35days                          1.000000             0.202122   \n",
       "mean_rev_last35days                           0.202122             1.000000   \n",
       "day_of_week                                   0.006580             0.007988   \n",
       "\n",
       "                                  day_of_week  \n",
       "custno                               0.001216  \n",
       "ordno                                0.079652  \n",
       "prodcat2                             0.017330  \n",
       "prodcat1                             0.020183  \n",
       "revenue                              0.006873  \n",
       "KMeanCluster                              NaN  \n",
       "browse_activity_last7days            0.014498  \n",
       "max_browse_cat_last7days             0.028512  \n",
       "max_browse_event_last7days           0.012228  \n",
       "count_browse_event_last7days         0.017685  \n",
       "browse_activity_last35days           0.009337  \n",
       "max_browse_cat_last35days            0.016701  \n",
       "max_browse_event_last35days          0.000548  \n",
       "count_browse_event_last35days        0.008777  \n",
       "order_activity_last7days             0.028949  \n",
       "count_unique_orders_last7days        0.001371  \n",
       "max_prodcat2_type_last7days          0.022971  \n",
       "count_unique_prodcat2_last7days      0.026021  \n",
       "total_rev_last7days                  0.033264  \n",
       "mean_rev_last7days                   0.010518  \n",
       "order_activity_last35days            0.012048  \n",
       "count_unique_orders_last35days       0.036646  \n",
       "max_prodcat2_type_last35days         0.013518  \n",
       "count_unique_prodcat2_last35days     0.023731  \n",
       "total_rev_last35days                 0.006580  \n",
       "mean_rev_last35days                  0.007988  \n",
       "day_of_week                          1.000000  \n",
       "\n",
       "[27 rows x 27 columns]"
      ]
     },
     "execution_count": 33,
     "metadata": {},
     "output_type": "execute_result"
    }
   ],
   "source": [
    "corr_matrix = order_with_cluster1.corr().abs()\n",
    "corr_matrix"
   ]
  },
  {
   "cell_type": "markdown",
   "metadata": {},
   "source": [
    "Takeaway: \n",
    "<br> 1.'max_prodcat2_type_last7days' and 'max_prodcat2_type_last35days' has the largest correlation with prodcat1\n",
    "<br> 2. 'mean_rev_last7days' and 'mean_rev_last35days' are least correlated with prodcat1 - we will drop these columns"
   ]
  },
  {
   "cell_type": "code",
   "execution_count": 34,
   "metadata": {},
   "outputs": [
    {
     "data": {
      "text/plain": [
       "['total_rev_last35days']"
      ]
     },
     "execution_count": 34,
     "metadata": {},
     "output_type": "execute_result"
    }
   ],
   "source": [
    "# Find out highly correlated columns\n",
    "\n",
    "# Select upper triangle of correlation matrix\n",
    "upper = corr_matrix.where(np.triu(np.ones(corr_matrix.shape), k=1).astype(np.bool))\n",
    "\n",
    "# Find index of feature columns with correlation greater than 0.95\n",
    "to_drop = [column for column in upper.columns if any(upper[column] > 0.95)]\n",
    "to_drop"
   ]
  },
  {
   "cell_type": "markdown",
   "metadata": {},
   "source": [
    "'total_rev_last35days' is highly correlated with 'order_activity_last35days' - we will drop 'total_rev_last35days'"
   ]
  },
  {
   "cell_type": "code",
   "execution_count": 35,
   "metadata": {},
   "outputs": [],
   "source": [
    "final_selected_features = ['custno', 'ordno','prodcat2','browse_activity_last7days', 'max_browse_cat_last7days',\n",
    "       'max_browse_event_last7days', 'count_browse_event_last7days',\n",
    "       'browse_activity_last35days', 'max_browse_cat_last35days',\n",
    "       'max_browse_event_last35days', 'count_browse_event_last35days',\n",
    "       'order_activity_last7days', 'count_unique_orders_last7days',\n",
    "       'max_prodcat2_type_last7days', 'count_unique_prodcat2_last7days',\n",
    "       'total_rev_last7days','order_activity_last35days',\n",
    "       'count_unique_orders_last35days', 'max_prodcat2_type_last35days',\n",
    "       'count_unique_prodcat2_last35days', 'day_of_week']\n",
    "label = ['prodcat1']"
   ]
  },
  {
   "cell_type": "markdown",
   "metadata": {},
   "source": [
    "# 5. Modelling"
   ]
  },
  {
   "cell_type": "code",
   "execution_count": 36,
   "metadata": {},
   "outputs": [],
   "source": [
    " # Independend variable\n",
    "X = order_with_cluster1[final_selected_features]\n",
    "\n",
    "# Depeneded variable\n",
    "y = order_with_cluster1[label]\n",
    "\n",
    "# Test train split\n",
    "X_train, X_test, y_train, y_test = train_test_split(X, y, test_size=0.33, random_state=42) \n",
    "\n",
    "X_train = np.asarray(X_train)\n",
    "X_test = np.asarray(X_test)\n",
    "y_train =np.asarray(y_train)\n",
    "y_test =np.asarray(y_test)"
   ]
  },
  {
   "cell_type": "markdown",
   "metadata": {},
   "source": [
    "### 5.1 Random Forest Classifier"
   ]
  },
  {
   "cell_type": "code",
   "execution_count": 37,
   "metadata": {},
   "outputs": [],
   "source": [
    "rfc=RandomForestClassifier(random_state=42)"
   ]
  },
  {
   "cell_type": "code",
   "execution_count": 38,
   "metadata": {},
   "outputs": [],
   "source": [
    "param_grid = { \n",
    "    'bootstrap': [True],\n",
    "    'max_depth': [80, 90],\n",
    "    'max_features': [2, 3],\n",
    "    'min_samples_leaf': [3, 4, 5],\n",
    "    'min_samples_split': [8, 10, 12],\n",
    "    'n_estimators': [100]\n",
    "}"
   ]
  },
  {
   "cell_type": "code",
   "execution_count": 39,
   "metadata": {},
   "outputs": [
    {
     "name": "stdout",
     "output_type": "stream",
     "text": [
      "Fitting 3 folds for each of 36 candidates, totalling 108 fits\n"
     ]
    },
    {
     "data": {
      "text/plain": [
       "GridSearchCV(cv=3, estimator=RandomForestClassifier(random_state=42), n_jobs=-1,\n",
       "             param_grid={'bootstrap': [True], 'max_depth': [80, 90],\n",
       "                         'max_features': [2, 3], 'min_samples_leaf': [3, 4, 5],\n",
       "                         'min_samples_split': [8, 10, 12],\n",
       "                         'n_estimators': [100]},\n",
       "             verbose=2)"
      ]
     },
     "execution_count": 39,
     "metadata": {},
     "output_type": "execute_result"
    }
   ],
   "source": [
    "CV_rfc = GridSearchCV(estimator=rfc, param_grid=param_grid, cv= 3, n_jobs = -1, verbose = 2)\n",
    "CV_rfc.fit(X_train, y_train.ravel())"
   ]
  },
  {
   "cell_type": "code",
   "execution_count": 40,
   "metadata": {},
   "outputs": [
    {
     "data": {
      "text/plain": [
       "{'bootstrap': True,\n",
       " 'max_depth': 80,\n",
       " 'max_features': 3,\n",
       " 'min_samples_leaf': 3,\n",
       " 'min_samples_split': 8,\n",
       " 'n_estimators': 100}"
      ]
     },
     "execution_count": 40,
     "metadata": {},
     "output_type": "execute_result"
    }
   ],
   "source": [
    "CV_rfc.best_params_"
   ]
  },
  {
   "cell_type": "code",
   "execution_count": 41,
   "metadata": {},
   "outputs": [
    {
     "name": "stdout",
     "output_type": "stream",
     "text": [
      "Accuracy for Random Forest:  0.8504715977590241\n"
     ]
    }
   ],
   "source": [
    "rfc1=RandomForestClassifier(random_state=42, max_features=3, n_estimators= 100, max_depth=80, criterion='gini',\n",
    "                           bootstrap=True,min_samples_leaf=3,min_samples_split=8)\n",
    "rfc1.fit(X_train, y_train.ravel())\n",
    "pred = rfc1.predict(X_test)\n",
    "print(\"Accuracy for Random Forest: \",accuracy_score(y_test,pred))"
   ]
  },
  {
   "cell_type": "code",
   "execution_count": 42,
   "metadata": {},
   "outputs": [
    {
     "name": "stdout",
     "output_type": "stream",
     "text": [
      "              precision    recall  f1-score   support\n",
      "\n",
      "           1       0.85      0.86      0.86      4958\n",
      "           2       0.95      0.93      0.94      8463\n",
      "           3       0.77      0.84      0.80      5549\n",
      "           4       0.88      0.92      0.90      4229\n",
      "           5       0.92      0.67      0.78      1747\n",
      "           7       0.68      0.65      0.66      3256\n",
      "\n",
      "    accuracy                           0.85     28202\n",
      "   macro avg       0.84      0.81      0.82     28202\n",
      "weighted avg       0.85      0.85      0.85     28202\n",
      "\n"
     ]
    }
   ],
   "source": [
    "report = classification_report(y_test,pred)\n",
    "print(report)"
   ]
  },
  {
   "cell_type": "markdown",
   "metadata": {},
   "source": [
    "Takeaway: As we know the data is imbalanced and we have more observations for prodcat class 2 and thats why we see a higher recall and f1-score for prodcat class 2. On the other hand due to low observations of 5 and 7, we see low recall and f1-score"
   ]
  },
  {
   "cell_type": "markdown",
   "metadata": {},
   "source": [
    "### 5.2 SMOTE (Synthetic Minority Over-Sampling Technique) with Random Forest"
   ]
  },
  {
   "cell_type": "markdown",
   "metadata": {},
   "source": [
    "SMOTE is an over-sampling approach in which the minority class is over-sampled by creating “synthetic” examples rather than by over-sampling with replacement."
   ]
  },
  {
   "cell_type": "code",
   "execution_count": 43,
   "metadata": {},
   "outputs": [],
   "source": [
    "smote = SMOTE(sampling_strategy='not majority')"
   ]
  },
  {
   "cell_type": "code",
   "execution_count": 44,
   "metadata": {},
   "outputs": [],
   "source": [
    "clf = Pipeline(steps=[('sampling', smote),('classifier', rfc1)])"
   ]
  },
  {
   "cell_type": "code",
   "execution_count": 45,
   "metadata": {},
   "outputs": [
    {
     "data": {
      "text/plain": [
       "Pipeline(steps=[('sampling', SMOTE(sampling_strategy='not majority')),\n",
       "                ('classifier',\n",
       "                 RandomForestClassifier(max_depth=80, max_features=3,\n",
       "                                        min_samples_leaf=3, min_samples_split=8,\n",
       "                                        random_state=42))])"
      ]
     },
     "execution_count": 45,
     "metadata": {},
     "output_type": "execute_result"
    }
   ],
   "source": [
    "clf.fit(X_train, y_train.ravel())"
   ]
  },
  {
   "cell_type": "code",
   "execution_count": 46,
   "metadata": {},
   "outputs": [
    {
     "name": "stdout",
     "output_type": "stream",
     "text": [
      "Accuracy for SMOTE Oversampling - Random Forest:  0.8578115027303028\n"
     ]
    }
   ],
   "source": [
    "pred = clf.predict(X_test)\n",
    "print(\"Accuracy for SMOTE Oversampling - Random Forest: \",accuracy_score(y_test,pred))"
   ]
  },
  {
   "cell_type": "code",
   "execution_count": 47,
   "metadata": {},
   "outputs": [
    {
     "name": "stdout",
     "output_type": "stream",
     "text": [
      "              precision    recall  f1-score   support\n",
      "\n",
      "           1       0.86      0.85      0.86      4958\n",
      "           2       0.97      0.92      0.94      8463\n",
      "           3       0.82      0.81      0.82      5549\n",
      "           4       0.88      0.93      0.90      4229\n",
      "           5       0.89      0.79      0.84      1747\n",
      "           7       0.64      0.74      0.69      3256\n",
      "\n",
      "    accuracy                           0.86     28202\n",
      "   macro avg       0.84      0.84      0.84     28202\n",
      "weighted avg       0.86      0.86      0.86     28202\n",
      "\n"
     ]
    }
   ],
   "source": [
    "report = classification_report(y_test,pred)\n",
    "print(report)"
   ]
  },
  {
   "cell_type": "markdown",
   "metadata": {},
   "source": [
    "Takeaway: By applying oversampling technique the overall accuracy increased. The recall for minority class (5,7) also increased. SMOTE Random Forest perform better "
   ]
  },
  {
   "cell_type": "markdown",
   "metadata": {},
   "source": [
    "### 5.3 Gradient Boosting Classifier"
   ]
  },
  {
   "cell_type": "code",
   "execution_count": 48,
   "metadata": {},
   "outputs": [],
   "source": [
    "gbc = GradientBoostingClassifier()"
   ]
  },
  {
   "cell_type": "code",
   "execution_count": 49,
   "metadata": {},
   "outputs": [
    {
     "name": "stdout",
     "output_type": "stream",
     "text": [
      "Fitting 3 folds for each of 20000 candidates, totalling 60000 fits\n",
      "{'learning_rate': 0.05, 'max_depth': 5, 'min_samples_leaf': 0.5, 'min_samples_split': 0.5, 'n_estimators': 80}\n"
     ]
    }
   ],
   "source": [
    "param_grid = {\n",
    "    \"learning_rate\": [0.01, 0.05],\n",
    "    \"min_samples_split\": np.linspace( 0.5, 12),\n",
    "    \"min_samples_leaf\": np.linspace( 0.5, 12),\n",
    "    \"max_depth\":[5,8],\n",
    "    \"n_estimators\":[80,100]\n",
    "    }\n",
    "clf = GridSearchCV(GradientBoostingClassifier(), param_grid=param_grid, cv= 3, n_jobs = -1, verbose = 2)\n",
    "\n",
    "clf.fit(X_train, y_train.ravel())\n",
    "print(clf.best_params_)"
   ]
  },
  {
   "cell_type": "code",
   "execution_count": 50,
   "metadata": {},
   "outputs": [
    {
     "name": "stdout",
     "output_type": "stream",
     "text": [
      "Accuracy for Gradient Boosting Classifier:  0.3088788029217786\n"
     ]
    }
   ],
   "source": [
    "gbc1=GradientBoostingClassifier(random_state=42, learning_rate= 0.05, max_depth= 5, min_samples_leaf= 0.5, min_samples_split= 0.5, n_estimators= 80)\n",
    "gbc1.fit(X_train, y_train.ravel())\n",
    "pred = gbc1.predict(X_test)\n",
    "print(\"Accuracy for Gradient Boosting Classifier: \",accuracy_score(y_test,pred))"
   ]
  },
  {
   "cell_type": "code",
   "execution_count": 51,
   "metadata": {},
   "outputs": [
    {
     "name": "stdout",
     "output_type": "stream",
     "text": [
      "              precision    recall  f1-score   support\n",
      "\n",
      "           1       0.00      0.00      0.00      4958\n",
      "           2       0.32      0.74      0.45      8463\n",
      "           3       0.28      0.44      0.34      5549\n",
      "           4       0.00      0.00      0.00      4229\n",
      "           5       0.00      0.00      0.00      1747\n",
      "           7       0.00      0.00      0.00      3256\n",
      "\n",
      "    accuracy                           0.31     28202\n",
      "   macro avg       0.10      0.20      0.13     28202\n",
      "weighted avg       0.15      0.31      0.20     28202\n",
      "\n"
     ]
    }
   ],
   "source": [
    "report = classification_report(y_test,pred)\n",
    "print(report)"
   ]
  },
  {
   "cell_type": "markdown",
   "metadata": {},
   "source": [
    "# 6. Model Comparison"
   ]
  },
  {
   "cell_type": "markdown",
   "metadata": {},
   "source": [
    "| Model | Accuracy | macro average precision | macro average recall\t| macro average f1 score |\n",
    "| --- | ------ | --- | --- | --- |\n",
    "| Random Forest Classifier | 85.04% | 84% | 81% | 82% |\n",
    "| SMOTE Random Forest Classifier | 85.78% | 84% | 84% | 84% |\n",
    "| Gradient Boosting Classifier | 30.88% | 10% | 20% | 13% |"
   ]
  },
  {
   "cell_type": "markdown",
   "metadata": {},
   "source": [
    "Takeaway: We will choose SMOTE Random Forest Classifier as it performs the best with increased recall and f1 score compared to imbalanced Random Forest model"
   ]
  },
  {
   "cell_type": "markdown",
   "metadata": {},
   "source": [
    "# 7. Summary "
   ]
  },
  {
   "cell_type": "markdown",
   "metadata": {},
   "source": [
    "<b>In this exercise I performed and learned the following </b>:\n",
    "<br> 1. Our datasets are incomplete and imbalanaced - I tried to handle it by filtering and resampling the data.\n",
    "<br> 2. I segmented the customers using concepts of recency, frequency and monetary value - There are lot of low buying customers. More than 20,000 customers just buy once in a year. We need different business strategies to handle each cluster\n",
    "<br>$\\;\\;\\;\\;\\;\\;$ Cluster 1: Improve Retention\n",
    "<br>$\\;\\;\\;\\;\\;\\;$ Cluster 0,2: Improve Retention + Increase Frequency\n",
    "<br> 3. I created some timebased features and found out that prodcat2 feature has good correlation with label feature prodcat1. I used correlation matrix to select best features.\n",
    "<br> 4. After running different classification models and using confusion matrix, we determined that Random Forest with SMOTE resampling technique best suits the data.\n",
    "\n",
    "<b> Next steps </b>:\n",
    "<br> 1. Better data collection - A balanced dataset where we have equal distribution across the prodcat1 classes both in order and online file.\n",
    "<br> 2. Create more features at different time lags to provide more information to the model.\n",
    "<br> 3. Due to time crunch, I subset the data and used only cluster 1 customers to model. A next version model should be able to handle all cluster customers.\n",
    "<br> 4. I would like to try more complicated models like Neural Networks to enhance accuracy.\n",
    "<br> 5. In this project I tried oversampling and in future I would like to look into undersampling techniques as well."
   ]
  },
  {
   "cell_type": "code",
   "execution_count": null,
   "metadata": {},
   "outputs": [],
   "source": []
  }
 ],
 "metadata": {
  "kernelspec": {
   "display_name": "Python 3",
   "language": "python",
   "name": "python3"
  },
  "language_info": {
   "codemirror_mode": {
    "name": "ipython",
    "version": 3
   },
   "file_extension": ".py",
   "mimetype": "text/x-python",
   "name": "python",
   "nbconvert_exporter": "python",
   "pygments_lexer": "ipython3",
   "version": "3.7.6"
  }
 },
 "nbformat": 4,
 "nbformat_minor": 4
}
